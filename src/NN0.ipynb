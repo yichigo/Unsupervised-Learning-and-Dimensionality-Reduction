{
 "cells": [
  {
   "cell_type": "code",
   "execution_count": 2,
   "metadata": {},
   "outputs": [
    {
     "name": "stdout",
     "output_type": "stream",
     "text": [
      "None\n",
      "None\n"
     ]
    },
    {
     "data": {
      "text/html": [
       "<div>\n",
       "<style scoped>\n",
       "    .dataframe tbody tr th:only-of-type {\n",
       "        vertical-align: middle;\n",
       "    }\n",
       "\n",
       "    .dataframe tbody tr th {\n",
       "        vertical-align: top;\n",
       "    }\n",
       "\n",
       "    .dataframe thead th {\n",
       "        text-align: right;\n",
       "    }\n",
       "</style>\n",
       "<table border=\"1\" class=\"dataframe\">\n",
       "  <thead>\n",
       "    <tr style=\"text-align: right;\">\n",
       "      <th></th>\n",
       "      <th>age</th>\n",
       "      <th>sex</th>\n",
       "      <th>trestbps</th>\n",
       "      <th>chol</th>\n",
       "      <th>fbs</th>\n",
       "      <th>thalach</th>\n",
       "      <th>exang</th>\n",
       "      <th>oldpeak</th>\n",
       "      <th>ca</th>\n",
       "      <th>cp_1</th>\n",
       "      <th>cp_2</th>\n",
       "      <th>cp_3</th>\n",
       "      <th>restecg_1</th>\n",
       "      <th>restecg_2</th>\n",
       "      <th>slope_1</th>\n",
       "      <th>slope_2</th>\n",
       "      <th>thal_1</th>\n",
       "      <th>thal_2</th>\n",
       "      <th>thal_3</th>\n",
       "      <th>target</th>\n",
       "    </tr>\n",
       "  </thead>\n",
       "  <tbody>\n",
       "    <tr>\n",
       "      <th>0</th>\n",
       "      <td>0.708333</td>\n",
       "      <td>1.0</td>\n",
       "      <td>0.481132</td>\n",
       "      <td>0.244292</td>\n",
       "      <td>1.0</td>\n",
       "      <td>0.603053</td>\n",
       "      <td>0.0</td>\n",
       "      <td>0.370968</td>\n",
       "      <td>0.0</td>\n",
       "      <td>0.0</td>\n",
       "      <td>0.0</td>\n",
       "      <td>1.0</td>\n",
       "      <td>0.0</td>\n",
       "      <td>0.0</td>\n",
       "      <td>0.0</td>\n",
       "      <td>0.0</td>\n",
       "      <td>1.0</td>\n",
       "      <td>0.0</td>\n",
       "      <td>0.0</td>\n",
       "      <td>1</td>\n",
       "    </tr>\n",
       "    <tr>\n",
       "      <th>1</th>\n",
       "      <td>0.166667</td>\n",
       "      <td>1.0</td>\n",
       "      <td>0.339623</td>\n",
       "      <td>0.283105</td>\n",
       "      <td>0.0</td>\n",
       "      <td>0.885496</td>\n",
       "      <td>0.0</td>\n",
       "      <td>0.564516</td>\n",
       "      <td>0.0</td>\n",
       "      <td>0.0</td>\n",
       "      <td>1.0</td>\n",
       "      <td>0.0</td>\n",
       "      <td>1.0</td>\n",
       "      <td>0.0</td>\n",
       "      <td>0.0</td>\n",
       "      <td>0.0</td>\n",
       "      <td>0.0</td>\n",
       "      <td>1.0</td>\n",
       "      <td>0.0</td>\n",
       "      <td>1</td>\n",
       "    </tr>\n",
       "    <tr>\n",
       "      <th>2</th>\n",
       "      <td>0.250000</td>\n",
       "      <td>0.0</td>\n",
       "      <td>0.339623</td>\n",
       "      <td>0.178082</td>\n",
       "      <td>0.0</td>\n",
       "      <td>0.770992</td>\n",
       "      <td>0.0</td>\n",
       "      <td>0.225806</td>\n",
       "      <td>0.0</td>\n",
       "      <td>1.0</td>\n",
       "      <td>0.0</td>\n",
       "      <td>0.0</td>\n",
       "      <td>0.0</td>\n",
       "      <td>0.0</td>\n",
       "      <td>0.0</td>\n",
       "      <td>1.0</td>\n",
       "      <td>0.0</td>\n",
       "      <td>1.0</td>\n",
       "      <td>0.0</td>\n",
       "      <td>1</td>\n",
       "    </tr>\n",
       "    <tr>\n",
       "      <th>3</th>\n",
       "      <td>0.562500</td>\n",
       "      <td>1.0</td>\n",
       "      <td>0.245283</td>\n",
       "      <td>0.251142</td>\n",
       "      <td>0.0</td>\n",
       "      <td>0.816794</td>\n",
       "      <td>0.0</td>\n",
       "      <td>0.129032</td>\n",
       "      <td>0.0</td>\n",
       "      <td>1.0</td>\n",
       "      <td>0.0</td>\n",
       "      <td>0.0</td>\n",
       "      <td>1.0</td>\n",
       "      <td>0.0</td>\n",
       "      <td>0.0</td>\n",
       "      <td>1.0</td>\n",
       "      <td>0.0</td>\n",
       "      <td>1.0</td>\n",
       "      <td>0.0</td>\n",
       "      <td>1</td>\n",
       "    </tr>\n",
       "    <tr>\n",
       "      <th>4</th>\n",
       "      <td>0.583333</td>\n",
       "      <td>0.0</td>\n",
       "      <td>0.245283</td>\n",
       "      <td>0.520548</td>\n",
       "      <td>0.0</td>\n",
       "      <td>0.702290</td>\n",
       "      <td>1.0</td>\n",
       "      <td>0.096774</td>\n",
       "      <td>0.0</td>\n",
       "      <td>0.0</td>\n",
       "      <td>0.0</td>\n",
       "      <td>0.0</td>\n",
       "      <td>1.0</td>\n",
       "      <td>0.0</td>\n",
       "      <td>0.0</td>\n",
       "      <td>1.0</td>\n",
       "      <td>0.0</td>\n",
       "      <td>1.0</td>\n",
       "      <td>0.0</td>\n",
       "      <td>1</td>\n",
       "    </tr>\n",
       "  </tbody>\n",
       "</table>\n",
       "</div>"
      ],
      "text/plain": [
       "        age  sex  trestbps      chol  fbs   thalach  exang   oldpeak   ca  \\\n",
       "0  0.708333  1.0  0.481132  0.244292  1.0  0.603053    0.0  0.370968  0.0   \n",
       "1  0.166667  1.0  0.339623  0.283105  0.0  0.885496    0.0  0.564516  0.0   \n",
       "2  0.250000  0.0  0.339623  0.178082  0.0  0.770992    0.0  0.225806  0.0   \n",
       "3  0.562500  1.0  0.245283  0.251142  0.0  0.816794    0.0  0.129032  0.0   \n",
       "4  0.583333  0.0  0.245283  0.520548  0.0  0.702290    1.0  0.096774  0.0   \n",
       "\n",
       "   cp_1  cp_2  cp_3  restecg_1  restecg_2  slope_1  slope_2  thal_1  thal_2  \\\n",
       "0   0.0   0.0   1.0        0.0        0.0      0.0      0.0     1.0     0.0   \n",
       "1   0.0   1.0   0.0        1.0        0.0      0.0      0.0     0.0     1.0   \n",
       "2   1.0   0.0   0.0        0.0        0.0      0.0      1.0     0.0     1.0   \n",
       "3   1.0   0.0   0.0        1.0        0.0      0.0      1.0     0.0     1.0   \n",
       "4   0.0   0.0   0.0        1.0        0.0      0.0      1.0     0.0     1.0   \n",
       "\n",
       "   thal_3  target  \n",
       "0     0.0       1  \n",
       "1     0.0       1  \n",
       "2     0.0       1  \n",
       "3     0.0       1  \n",
       "4     0.0       1  "
      ]
     },
     "execution_count": 2,
     "metadata": {},
     "output_type": "execute_result"
    }
   ],
   "source": [
    "import pandas as pd\n",
    "import numpy as np\n",
    "import matplotlib.pyplot as plt\n",
    "from sklearn.metrics import accuracy_score, confusion_matrix\n",
    "from sklearn.model_selection import GridSearchCV, train_test_split, cross_val_score\n",
    "import sklearn.tree as tree\n",
    "from sklearn.metrics import plot_confusion_matrix\n",
    "\n",
    "# Classifiers \n",
    "from sklearn.neural_network import MLPClassifier\n",
    "from plots import plot_roc\n",
    "\n",
    "import os\n",
    "import sys\n",
    "\n",
    "dir_in = '../data/'\n",
    "dir_out = '../plots/'\n",
    "\n",
    "\n",
    "DR = 'None'\n",
    "Cluster = 'None'\n",
    "\n",
    "print(DR)\n",
    "print(Cluster)\n",
    "\n",
    "# read data\n",
    "fn_in = 'heart_'+ DR + '_' + Cluster +'.csv'\n",
    "df = pd.read_csv(dir_in + fn_in)\n",
    "\n",
    "df.head()"
   ]
  },
  {
   "cell_type": "code",
   "execution_count": 4,
   "metadata": {},
   "outputs": [],
   "source": [
    "# split dataset\n",
    "RANDOM_STATE_DATA = 0\n",
    "X = df.drop(['target'],axis=1)\n",
    "y = df['target']\n",
    "X_train, X_test, y_train, y_test = train_test_split(X, y, test_size=0.2, random_state=RANDOM_STATE_DATA) \n"
   ]
  },
  {
   "cell_type": "code",
   "execution_count": 16,
   "metadata": {},
   "outputs": [
    {
     "name": "stdout",
     "output_type": "stream",
     "text": [
      "Fitting 2 folds for each of 162 candidates, totalling 324 fits\n",
      "[CV] activation=identity, hidden_layer_sizes=10, max_iter=100, solver=lbfgs \n",
      "[CV]  activation=identity, hidden_layer_sizes=10, max_iter=100, solver=lbfgs, score=0.810, total=   0.0s\n",
      "[CV] activation=identity, hidden_layer_sizes=10, max_iter=100, solver=lbfgs \n",
      "[CV]  activation=identity, hidden_layer_sizes=10, max_iter=100, solver=lbfgs, score=0.826, total=   0.0s\n",
      "[CV] activation=identity, hidden_layer_sizes=10, max_iter=100, solver=sgd \n",
      "[CV]  activation=identity, hidden_layer_sizes=10, max_iter=100, solver=sgd, score=0.760, total=   0.0s\n",
      "[CV] activation=identity, hidden_layer_sizes=10, max_iter=100, solver=sgd \n",
      "[CV]  activation=identity, hidden_layer_sizes=10, max_iter=100, solver=sgd, score=0.810, total=   0.0s\n",
      "[CV] activation=identity, hidden_layer_sizes=10, max_iter=100, solver=adam \n",
      "[CV]  activation=identity, hidden_layer_sizes=10, max_iter=100, solver=adam, score=0.802, total=   0.0s\n",
      "[CV] activation=identity, hidden_layer_sizes=10, max_iter=100, solver=adam \n"
     ]
    },
    {
     "name": "stderr",
     "output_type": "stream",
     "text": [
      "[Parallel(n_jobs=1)]: Using backend SequentialBackend with 1 concurrent workers.\n",
      "[Parallel(n_jobs=1)]: Done   1 out of   1 | elapsed:    0.0s remaining:    0.0s\n",
      "[Parallel(n_jobs=1)]: Done   2 out of   2 | elapsed:    0.1s remaining:    0.0s\n",
      "/Users/Strawberry/anaconda3/lib/python3.7/site-packages/sklearn/neural_network/_multilayer_perceptron.py:571: ConvergenceWarning: Stochastic Optimizer: Maximum iterations (100) reached and the optimization hasn't converged yet.\n",
      "  % self.max_iter, ConvergenceWarning)\n",
      "/Users/Strawberry/anaconda3/lib/python3.7/site-packages/sklearn/neural_network/_multilayer_perceptron.py:571: ConvergenceWarning: Stochastic Optimizer: Maximum iterations (100) reached and the optimization hasn't converged yet.\n",
      "  % self.max_iter, ConvergenceWarning)\n",
      "/Users/Strawberry/anaconda3/lib/python3.7/site-packages/sklearn/neural_network/_multilayer_perceptron.py:571: ConvergenceWarning: Stochastic Optimizer: Maximum iterations (100) reached and the optimization hasn't converged yet.\n",
      "  % self.max_iter, ConvergenceWarning)\n",
      "/Users/Strawberry/anaconda3/lib/python3.7/site-packages/sklearn/neural_network/_multilayer_perceptron.py:571: ConvergenceWarning: Stochastic Optimizer: Maximum iterations (100) reached and the optimization hasn't converged yet.\n",
      "  % self.max_iter, ConvergenceWarning)\n",
      "/Users/Strawberry/anaconda3/lib/python3.7/site-packages/sklearn/neural_network/_multilayer_perceptron.py:571: ConvergenceWarning: Stochastic Optimizer: Maximum iterations (200) reached and the optimization hasn't converged yet.\n",
      "  % self.max_iter, ConvergenceWarning)\n"
     ]
    },
    {
     "name": "stdout",
     "output_type": "stream",
     "text": [
      "[CV]  activation=identity, hidden_layer_sizes=10, max_iter=100, solver=adam, score=0.843, total=   0.0s\n",
      "[CV] activation=identity, hidden_layer_sizes=10, max_iter=200, solver=lbfgs \n",
      "[CV]  activation=identity, hidden_layer_sizes=10, max_iter=200, solver=lbfgs, score=0.810, total=   0.0s\n",
      "[CV] activation=identity, hidden_layer_sizes=10, max_iter=200, solver=lbfgs \n",
      "[CV]  activation=identity, hidden_layer_sizes=10, max_iter=200, solver=lbfgs, score=0.826, total=   0.0s\n",
      "[CV] activation=identity, hidden_layer_sizes=10, max_iter=200, solver=sgd \n",
      "[CV]  activation=identity, hidden_layer_sizes=10, max_iter=200, solver=sgd, score=0.802, total=   0.1s\n",
      "[CV] activation=identity, hidden_layer_sizes=10, max_iter=200, solver=sgd \n"
     ]
    },
    {
     "name": "stderr",
     "output_type": "stream",
     "text": [
      "/Users/Strawberry/anaconda3/lib/python3.7/site-packages/sklearn/neural_network/_multilayer_perceptron.py:571: ConvergenceWarning: Stochastic Optimizer: Maximum iterations (200) reached and the optimization hasn't converged yet.\n",
      "  % self.max_iter, ConvergenceWarning)\n",
      "/Users/Strawberry/anaconda3/lib/python3.7/site-packages/sklearn/neural_network/_multilayer_perceptron.py:571: ConvergenceWarning: Stochastic Optimizer: Maximum iterations (200) reached and the optimization hasn't converged yet.\n",
      "  % self.max_iter, ConvergenceWarning)\n",
      "/Users/Strawberry/anaconda3/lib/python3.7/site-packages/sklearn/neural_network/_multilayer_perceptron.py:571: ConvergenceWarning: Stochastic Optimizer: Maximum iterations (200) reached and the optimization hasn't converged yet.\n",
      "  % self.max_iter, ConvergenceWarning)\n"
     ]
    },
    {
     "name": "stdout",
     "output_type": "stream",
     "text": [
      "[CV]  activation=identity, hidden_layer_sizes=10, max_iter=200, solver=sgd, score=0.818, total=   0.1s\n",
      "[CV] activation=identity, hidden_layer_sizes=10, max_iter=200, solver=adam \n",
      "[CV]  activation=identity, hidden_layer_sizes=10, max_iter=200, solver=adam, score=0.826, total=   0.1s\n",
      "[CV] activation=identity, hidden_layer_sizes=10, max_iter=200, solver=adam \n",
      "[CV]  activation=identity, hidden_layer_sizes=10, max_iter=200, solver=adam, score=0.826, total=   0.1s\n",
      "[CV] activation=identity, hidden_layer_sizes=20, max_iter=100, solver=lbfgs \n",
      "[CV]  activation=identity, hidden_layer_sizes=20, max_iter=100, solver=lbfgs, score=0.810, total=   0.0s\n",
      "[CV] activation=identity, hidden_layer_sizes=20, max_iter=100, solver=lbfgs \n",
      "[CV]  activation=identity, hidden_layer_sizes=20, max_iter=100, solver=lbfgs, score=0.826, total=   0.0s\n",
      "[CV] activation=identity, hidden_layer_sizes=20, max_iter=100, solver=sgd \n",
      "[CV]  activation=identity, hidden_layer_sizes=20, max_iter=100, solver=sgd, score=0.769, total=   0.1s\n",
      "[CV] activation=identity, hidden_layer_sizes=20, max_iter=100, solver=sgd \n",
      "[CV]  activation=identity, hidden_layer_sizes=20, max_iter=100, solver=sgd, score=0.818, total=   0.0s\n",
      "[CV] activation=identity, hidden_layer_sizes=20, max_iter=100, solver=adam \n",
      "[CV]  activation=identity, hidden_layer_sizes=20, max_iter=100, solver=adam, score=0.802, total=   0.1s\n",
      "[CV] activation=identity, hidden_layer_sizes=20, max_iter=100, solver=adam \n",
      "[CV]  activation=identity, hidden_layer_sizes=20, max_iter=100, solver=adam, score=0.835, total=   0.0s\n",
      "[CV] activation=identity, hidden_layer_sizes=20, max_iter=200, solver=lbfgs \n"
     ]
    },
    {
     "name": "stderr",
     "output_type": "stream",
     "text": [
      "/Users/Strawberry/anaconda3/lib/python3.7/site-packages/sklearn/neural_network/_multilayer_perceptron.py:571: ConvergenceWarning: Stochastic Optimizer: Maximum iterations (100) reached and the optimization hasn't converged yet.\n",
      "  % self.max_iter, ConvergenceWarning)\n",
      "/Users/Strawberry/anaconda3/lib/python3.7/site-packages/sklearn/neural_network/_multilayer_perceptron.py:571: ConvergenceWarning: Stochastic Optimizer: Maximum iterations (100) reached and the optimization hasn't converged yet.\n",
      "  % self.max_iter, ConvergenceWarning)\n",
      "/Users/Strawberry/anaconda3/lib/python3.7/site-packages/sklearn/neural_network/_multilayer_perceptron.py:571: ConvergenceWarning: Stochastic Optimizer: Maximum iterations (100) reached and the optimization hasn't converged yet.\n",
      "  % self.max_iter, ConvergenceWarning)\n",
      "/Users/Strawberry/anaconda3/lib/python3.7/site-packages/sklearn/neural_network/_multilayer_perceptron.py:571: ConvergenceWarning: Stochastic Optimizer: Maximum iterations (100) reached and the optimization hasn't converged yet.\n",
      "  % self.max_iter, ConvergenceWarning)\n"
     ]
    },
    {
     "name": "stdout",
     "output_type": "stream",
     "text": [
      "[CV]  activation=identity, hidden_layer_sizes=20, max_iter=200, solver=lbfgs, score=0.810, total=   0.0s\n",
      "[CV] activation=identity, hidden_layer_sizes=20, max_iter=200, solver=lbfgs \n",
      "[CV]  activation=identity, hidden_layer_sizes=20, max_iter=200, solver=lbfgs, score=0.826, total=   0.0s\n",
      "[CV] activation=identity, hidden_layer_sizes=20, max_iter=200, solver=sgd \n",
      "[CV]  activation=identity, hidden_layer_sizes=20, max_iter=200, solver=sgd, score=0.785, total=   0.1s\n",
      "[CV] activation=identity, hidden_layer_sizes=20, max_iter=200, solver=sgd \n"
     ]
    },
    {
     "name": "stderr",
     "output_type": "stream",
     "text": [
      "/Users/Strawberry/anaconda3/lib/python3.7/site-packages/sklearn/neural_network/_multilayer_perceptron.py:571: ConvergenceWarning: Stochastic Optimizer: Maximum iterations (200) reached and the optimization hasn't converged yet.\n",
      "  % self.max_iter, ConvergenceWarning)\n",
      "/Users/Strawberry/anaconda3/lib/python3.7/site-packages/sklearn/neural_network/_multilayer_perceptron.py:571: ConvergenceWarning: Stochastic Optimizer: Maximum iterations (200) reached and the optimization hasn't converged yet.\n",
      "  % self.max_iter, ConvergenceWarning)\n",
      "/Users/Strawberry/anaconda3/lib/python3.7/site-packages/sklearn/neural_network/_multilayer_perceptron.py:571: ConvergenceWarning: Stochastic Optimizer: Maximum iterations (200) reached and the optimization hasn't converged yet.\n",
      "  % self.max_iter, ConvergenceWarning)\n"
     ]
    },
    {
     "name": "stdout",
     "output_type": "stream",
     "text": [
      "[CV]  activation=identity, hidden_layer_sizes=20, max_iter=200, solver=sgd, score=0.802, total=   0.1s\n",
      "[CV] activation=identity, hidden_layer_sizes=20, max_iter=200, solver=adam \n",
      "[CV]  activation=identity, hidden_layer_sizes=20, max_iter=200, solver=adam, score=0.835, total=   0.1s\n",
      "[CV] activation=identity, hidden_layer_sizes=20, max_iter=200, solver=adam \n",
      "[CV]  activation=identity, hidden_layer_sizes=20, max_iter=200, solver=adam, score=0.826, total=   0.1s\n",
      "[CV] activation=identity, hidden_layer_sizes=30, max_iter=100, solver=lbfgs \n"
     ]
    },
    {
     "name": "stderr",
     "output_type": "stream",
     "text": [
      "/Users/Strawberry/anaconda3/lib/python3.7/site-packages/sklearn/neural_network/_multilayer_perceptron.py:571: ConvergenceWarning: Stochastic Optimizer: Maximum iterations (200) reached and the optimization hasn't converged yet.\n",
      "  % self.max_iter, ConvergenceWarning)\n",
      "/Users/Strawberry/anaconda3/lib/python3.7/site-packages/sklearn/neural_network/_multilayer_perceptron.py:571: ConvergenceWarning: Stochastic Optimizer: Maximum iterations (100) reached and the optimization hasn't converged yet.\n",
      "  % self.max_iter, ConvergenceWarning)\n",
      "/Users/Strawberry/anaconda3/lib/python3.7/site-packages/sklearn/neural_network/_multilayer_perceptron.py:571: ConvergenceWarning: Stochastic Optimizer: Maximum iterations (100) reached and the optimization hasn't converged yet.\n",
      "  % self.max_iter, ConvergenceWarning)\n"
     ]
    },
    {
     "name": "stdout",
     "output_type": "stream",
     "text": [
      "[CV]  activation=identity, hidden_layer_sizes=30, max_iter=100, solver=lbfgs, score=0.810, total=   0.0s\n",
      "[CV] activation=identity, hidden_layer_sizes=30, max_iter=100, solver=lbfgs \n",
      "[CV]  activation=identity, hidden_layer_sizes=30, max_iter=100, solver=lbfgs, score=0.826, total=   0.0s\n",
      "[CV] activation=identity, hidden_layer_sizes=30, max_iter=100, solver=sgd \n",
      "[CV]  activation=identity, hidden_layer_sizes=30, max_iter=100, solver=sgd, score=0.744, total=   0.0s\n",
      "[CV] activation=identity, hidden_layer_sizes=30, max_iter=100, solver=sgd \n",
      "[CV]  activation=identity, hidden_layer_sizes=30, max_iter=100, solver=sgd, score=0.686, total=   0.0s\n",
      "[CV] activation=identity, hidden_layer_sizes=30, max_iter=100, solver=adam \n",
      "[CV]  activation=identity, hidden_layer_sizes=30, max_iter=100, solver=adam, score=0.851, total=   0.1s\n",
      "[CV] activation=identity, hidden_layer_sizes=30, max_iter=100, solver=adam \n"
     ]
    },
    {
     "name": "stderr",
     "output_type": "stream",
     "text": [
      "/Users/Strawberry/anaconda3/lib/python3.7/site-packages/sklearn/neural_network/_multilayer_perceptron.py:571: ConvergenceWarning: Stochastic Optimizer: Maximum iterations (100) reached and the optimization hasn't converged yet.\n",
      "  % self.max_iter, ConvergenceWarning)\n",
      "/Users/Strawberry/anaconda3/lib/python3.7/site-packages/sklearn/neural_network/_multilayer_perceptron.py:571: ConvergenceWarning: Stochastic Optimizer: Maximum iterations (100) reached and the optimization hasn't converged yet.\n",
      "  % self.max_iter, ConvergenceWarning)\n"
     ]
    },
    {
     "name": "stdout",
     "output_type": "stream",
     "text": [
      "[CV]  activation=identity, hidden_layer_sizes=30, max_iter=100, solver=adam, score=0.835, total=   0.1s\n",
      "[CV] activation=identity, hidden_layer_sizes=30, max_iter=200, solver=lbfgs \n",
      "[CV]  activation=identity, hidden_layer_sizes=30, max_iter=200, solver=lbfgs, score=0.810, total=   0.0s\n",
      "[CV] activation=identity, hidden_layer_sizes=30, max_iter=200, solver=lbfgs \n",
      "[CV]  activation=identity, hidden_layer_sizes=30, max_iter=200, solver=lbfgs, score=0.826, total=   0.0s\n",
      "[CV] activation=identity, hidden_layer_sizes=30, max_iter=200, solver=sgd \n",
      "[CV]  activation=identity, hidden_layer_sizes=30, max_iter=200, solver=sgd, score=0.802, total=   0.1s\n",
      "[CV] activation=identity, hidden_layer_sizes=30, max_iter=200, solver=sgd \n"
     ]
    },
    {
     "name": "stderr",
     "output_type": "stream",
     "text": [
      "/Users/Strawberry/anaconda3/lib/python3.7/site-packages/sklearn/neural_network/_multilayer_perceptron.py:571: ConvergenceWarning: Stochastic Optimizer: Maximum iterations (200) reached and the optimization hasn't converged yet.\n",
      "  % self.max_iter, ConvergenceWarning)\n",
      "/Users/Strawberry/anaconda3/lib/python3.7/site-packages/sklearn/neural_network/_multilayer_perceptron.py:571: ConvergenceWarning: Stochastic Optimizer: Maximum iterations (200) reached and the optimization hasn't converged yet.\n",
      "  % self.max_iter, ConvergenceWarning)\n",
      "/Users/Strawberry/anaconda3/lib/python3.7/site-packages/sklearn/neural_network/_multilayer_perceptron.py:571: ConvergenceWarning: Stochastic Optimizer: Maximum iterations (200) reached and the optimization hasn't converged yet.\n",
      "  % self.max_iter, ConvergenceWarning)\n"
     ]
    },
    {
     "name": "stdout",
     "output_type": "stream",
     "text": [
      "[CV]  activation=identity, hidden_layer_sizes=30, max_iter=200, solver=sgd, score=0.843, total=   0.1s\n",
      "[CV] activation=identity, hidden_layer_sizes=30, max_iter=200, solver=adam \n",
      "[CV]  activation=identity, hidden_layer_sizes=30, max_iter=200, solver=adam, score=0.851, total=   0.1s\n",
      "[CV] activation=identity, hidden_layer_sizes=30, max_iter=200, solver=adam \n"
     ]
    },
    {
     "name": "stderr",
     "output_type": "stream",
     "text": [
      "/Users/Strawberry/anaconda3/lib/python3.7/site-packages/sklearn/neural_network/_multilayer_perceptron.py:571: ConvergenceWarning: Stochastic Optimizer: Maximum iterations (200) reached and the optimization hasn't converged yet.\n",
      "  % self.max_iter, ConvergenceWarning)\n",
      "/Users/Strawberry/anaconda3/lib/python3.7/site-packages/sklearn/neural_network/_multilayer_perceptron.py:571: ConvergenceWarning: Stochastic Optimizer: Maximum iterations (100) reached and the optimization hasn't converged yet.\n",
      "  % self.max_iter, ConvergenceWarning)\n",
      "/Users/Strawberry/anaconda3/lib/python3.7/site-packages/sklearn/neural_network/_multilayer_perceptron.py:571: ConvergenceWarning: Stochastic Optimizer: Maximum iterations (100) reached and the optimization hasn't converged yet.\n",
      "  % self.max_iter, ConvergenceWarning)\n"
     ]
    },
    {
     "name": "stdout",
     "output_type": "stream",
     "text": [
      "[CV]  activation=identity, hidden_layer_sizes=30, max_iter=200, solver=adam, score=0.851, total=   0.1s\n",
      "[CV] activation=identity, hidden_layer_sizes=40, max_iter=100, solver=lbfgs \n",
      "[CV]  activation=identity, hidden_layer_sizes=40, max_iter=100, solver=lbfgs, score=0.810, total=   0.0s\n",
      "[CV] activation=identity, hidden_layer_sizes=40, max_iter=100, solver=lbfgs \n",
      "[CV]  activation=identity, hidden_layer_sizes=40, max_iter=100, solver=lbfgs, score=0.826, total=   0.0s\n",
      "[CV] activation=identity, hidden_layer_sizes=40, max_iter=100, solver=sgd \n",
      "[CV]  activation=identity, hidden_layer_sizes=40, max_iter=100, solver=sgd, score=0.719, total=   0.0s\n",
      "[CV] activation=identity, hidden_layer_sizes=40, max_iter=100, solver=sgd \n",
      "[CV]  activation=identity, hidden_layer_sizes=40, max_iter=100, solver=sgd, score=0.769, total=   0.1s\n",
      "[CV] activation=identity, hidden_layer_sizes=40, max_iter=100, solver=adam \n"
     ]
    },
    {
     "name": "stderr",
     "output_type": "stream",
     "text": [
      "/Users/Strawberry/anaconda3/lib/python3.7/site-packages/sklearn/neural_network/_multilayer_perceptron.py:571: ConvergenceWarning: Stochastic Optimizer: Maximum iterations (100) reached and the optimization hasn't converged yet.\n",
      "  % self.max_iter, ConvergenceWarning)\n",
      "/Users/Strawberry/anaconda3/lib/python3.7/site-packages/sklearn/neural_network/_multilayer_perceptron.py:571: ConvergenceWarning: Stochastic Optimizer: Maximum iterations (100) reached and the optimization hasn't converged yet.\n",
      "  % self.max_iter, ConvergenceWarning)\n"
     ]
    },
    {
     "name": "stdout",
     "output_type": "stream",
     "text": [
      "[CV]  activation=identity, hidden_layer_sizes=40, max_iter=100, solver=adam, score=0.793, total=   0.1s\n",
      "[CV] activation=identity, hidden_layer_sizes=40, max_iter=100, solver=adam \n",
      "[CV]  activation=identity, hidden_layer_sizes=40, max_iter=100, solver=adam, score=0.843, total=   0.1s\n",
      "[CV] activation=identity, hidden_layer_sizes=40, max_iter=200, solver=lbfgs \n",
      "[CV]  activation=identity, hidden_layer_sizes=40, max_iter=200, solver=lbfgs, score=0.810, total=   0.0s\n",
      "[CV] activation=identity, hidden_layer_sizes=40, max_iter=200, solver=lbfgs \n",
      "[CV]  activation=identity, hidden_layer_sizes=40, max_iter=200, solver=lbfgs, score=0.826, total=   0.0s\n",
      "[CV] activation=identity, hidden_layer_sizes=40, max_iter=200, solver=sgd \n"
     ]
    },
    {
     "name": "stderr",
     "output_type": "stream",
     "text": [
      "/Users/Strawberry/anaconda3/lib/python3.7/site-packages/sklearn/neural_network/_multilayer_perceptron.py:571: ConvergenceWarning: Stochastic Optimizer: Maximum iterations (200) reached and the optimization hasn't converged yet.\n",
      "  % self.max_iter, ConvergenceWarning)\n",
      "/Users/Strawberry/anaconda3/lib/python3.7/site-packages/sklearn/neural_network/_multilayer_perceptron.py:571: ConvergenceWarning: Stochastic Optimizer: Maximum iterations (200) reached and the optimization hasn't converged yet.\n",
      "  % self.max_iter, ConvergenceWarning)\n"
     ]
    },
    {
     "name": "stdout",
     "output_type": "stream",
     "text": [
      "[CV]  activation=identity, hidden_layer_sizes=40, max_iter=200, solver=sgd, score=0.752, total=   0.1s\n",
      "[CV] activation=identity, hidden_layer_sizes=40, max_iter=200, solver=sgd \n",
      "[CV]  activation=identity, hidden_layer_sizes=40, max_iter=200, solver=sgd, score=0.826, total=   0.1s\n",
      "[CV] activation=identity, hidden_layer_sizes=40, max_iter=200, solver=adam \n"
     ]
    },
    {
     "name": "stderr",
     "output_type": "stream",
     "text": [
      "/Users/Strawberry/anaconda3/lib/python3.7/site-packages/sklearn/neural_network/_multilayer_perceptron.py:571: ConvergenceWarning: Stochastic Optimizer: Maximum iterations (200) reached and the optimization hasn't converged yet.\n",
      "  % self.max_iter, ConvergenceWarning)\n",
      "/Users/Strawberry/anaconda3/lib/python3.7/site-packages/sklearn/neural_network/_multilayer_perceptron.py:571: ConvergenceWarning: Stochastic Optimizer: Maximum iterations (200) reached and the optimization hasn't converged yet.\n",
      "  % self.max_iter, ConvergenceWarning)\n"
     ]
    },
    {
     "name": "stdout",
     "output_type": "stream",
     "text": [
      "[CV]  activation=identity, hidden_layer_sizes=40, max_iter=200, solver=adam, score=0.843, total=   0.1s\n",
      "[CV] activation=identity, hidden_layer_sizes=40, max_iter=200, solver=adam \n",
      "[CV]  activation=identity, hidden_layer_sizes=40, max_iter=200, solver=adam, score=0.843, total=   0.1s\n",
      "[CV] activation=identity, hidden_layer_sizes=50, max_iter=100, solver=lbfgs \n",
      "[CV]  activation=identity, hidden_layer_sizes=50, max_iter=100, solver=lbfgs, score=0.810, total=   0.0s\n",
      "[CV] activation=identity, hidden_layer_sizes=50, max_iter=100, solver=lbfgs \n",
      "[CV]  activation=identity, hidden_layer_sizes=50, max_iter=100, solver=lbfgs, score=0.826, total=   0.0s\n",
      "[CV] activation=identity, hidden_layer_sizes=50, max_iter=100, solver=sgd \n"
     ]
    },
    {
     "name": "stderr",
     "output_type": "stream",
     "text": [
      "/Users/Strawberry/anaconda3/lib/python3.7/site-packages/sklearn/neural_network/_multilayer_perceptron.py:571: ConvergenceWarning: Stochastic Optimizer: Maximum iterations (100) reached and the optimization hasn't converged yet.\n",
      "  % self.max_iter, ConvergenceWarning)\n",
      "/Users/Strawberry/anaconda3/lib/python3.7/site-packages/sklearn/neural_network/_multilayer_perceptron.py:571: ConvergenceWarning: Stochastic Optimizer: Maximum iterations (100) reached and the optimization hasn't converged yet.\n",
      "  % self.max_iter, ConvergenceWarning)\n",
      "/Users/Strawberry/anaconda3/lib/python3.7/site-packages/sklearn/neural_network/_multilayer_perceptron.py:571: ConvergenceWarning: Stochastic Optimizer: Maximum iterations (100) reached and the optimization hasn't converged yet.\n",
      "  % self.max_iter, ConvergenceWarning)\n",
      "/Users/Strawberry/anaconda3/lib/python3.7/site-packages/sklearn/neural_network/_multilayer_perceptron.py:571: ConvergenceWarning: Stochastic Optimizer: Maximum iterations (100) reached and the optimization hasn't converged yet.\n",
      "  % self.max_iter, ConvergenceWarning)\n"
     ]
    },
    {
     "name": "stdout",
     "output_type": "stream",
     "text": [
      "[CV]  activation=identity, hidden_layer_sizes=50, max_iter=100, solver=sgd, score=0.777, total=   0.1s\n",
      "[CV] activation=identity, hidden_layer_sizes=50, max_iter=100, solver=sgd \n",
      "[CV]  activation=identity, hidden_layer_sizes=50, max_iter=100, solver=sgd, score=0.802, total=   0.1s\n",
      "[CV] activation=identity, hidden_layer_sizes=50, max_iter=100, solver=adam \n",
      "[CV]  activation=identity, hidden_layer_sizes=50, max_iter=100, solver=adam, score=0.802, total=   0.1s\n",
      "[CV] activation=identity, hidden_layer_sizes=50, max_iter=100, solver=adam \n",
      "[CV]  activation=identity, hidden_layer_sizes=50, max_iter=100, solver=adam, score=0.818, total=   0.1s\n",
      "[CV] activation=identity, hidden_layer_sizes=50, max_iter=200, solver=lbfgs \n",
      "[CV]  activation=identity, hidden_layer_sizes=50, max_iter=200, solver=lbfgs, score=0.810, total=   0.0s\n",
      "[CV] activation=identity, hidden_layer_sizes=50, max_iter=200, solver=lbfgs \n",
      "[CV]  activation=identity, hidden_layer_sizes=50, max_iter=200, solver=lbfgs, score=0.826, total=   0.0s\n",
      "[CV] activation=identity, hidden_layer_sizes=50, max_iter=200, solver=sgd \n",
      "[CV]  activation=identity, hidden_layer_sizes=50, max_iter=200, solver=sgd, score=0.793, total=   0.1s\n",
      "[CV] activation=identity, hidden_layer_sizes=50, max_iter=200, solver=sgd \n"
     ]
    },
    {
     "name": "stderr",
     "output_type": "stream",
     "text": [
      "/Users/Strawberry/anaconda3/lib/python3.7/site-packages/sklearn/neural_network/_multilayer_perceptron.py:571: ConvergenceWarning: Stochastic Optimizer: Maximum iterations (200) reached and the optimization hasn't converged yet.\n",
      "  % self.max_iter, ConvergenceWarning)\n",
      "/Users/Strawberry/anaconda3/lib/python3.7/site-packages/sklearn/neural_network/_multilayer_perceptron.py:571: ConvergenceWarning: Stochastic Optimizer: Maximum iterations (200) reached and the optimization hasn't converged yet.\n",
      "  % self.max_iter, ConvergenceWarning)\n"
     ]
    },
    {
     "name": "stdout",
     "output_type": "stream",
     "text": [
      "[CV]  activation=identity, hidden_layer_sizes=50, max_iter=200, solver=sgd, score=0.818, total=   0.1s\n",
      "[CV] activation=identity, hidden_layer_sizes=50, max_iter=200, solver=adam \n",
      "[CV]  activation=identity, hidden_layer_sizes=50, max_iter=200, solver=adam, score=0.843, total=   0.1s\n",
      "[CV] activation=identity, hidden_layer_sizes=50, max_iter=200, solver=adam \n"
     ]
    },
    {
     "name": "stderr",
     "output_type": "stream",
     "text": [
      "/Users/Strawberry/anaconda3/lib/python3.7/site-packages/sklearn/neural_network/_multilayer_perceptron.py:571: ConvergenceWarning: Stochastic Optimizer: Maximum iterations (200) reached and the optimization hasn't converged yet.\n",
      "  % self.max_iter, ConvergenceWarning)\n",
      "/Users/Strawberry/anaconda3/lib/python3.7/site-packages/sklearn/neural_network/_multilayer_perceptron.py:571: ConvergenceWarning: Stochastic Optimizer: Maximum iterations (200) reached and the optimization hasn't converged yet.\n",
      "  % self.max_iter, ConvergenceWarning)\n"
     ]
    },
    {
     "name": "stdout",
     "output_type": "stream",
     "text": [
      "[CV]  activation=identity, hidden_layer_sizes=50, max_iter=200, solver=adam, score=0.843, total=   0.1s\n",
      "[CV] activation=identity, hidden_layer_sizes=60, max_iter=100, solver=lbfgs \n",
      "[CV]  activation=identity, hidden_layer_sizes=60, max_iter=100, solver=lbfgs, score=0.810, total=   0.0s\n",
      "[CV] activation=identity, hidden_layer_sizes=60, max_iter=100, solver=lbfgs \n",
      "[CV]  activation=identity, hidden_layer_sizes=60, max_iter=100, solver=lbfgs, score=0.826, total=   0.0s\n",
      "[CV] activation=identity, hidden_layer_sizes=60, max_iter=100, solver=sgd \n",
      "[CV]  activation=identity, hidden_layer_sizes=60, max_iter=100, solver=sgd, score=0.702, total=   0.1s\n",
      "[CV] activation=identity, hidden_layer_sizes=60, max_iter=100, solver=sgd \n",
      "[CV]  activation=identity, hidden_layer_sizes=60, max_iter=100, solver=sgd, score=0.785, total=   0.0s\n",
      "[CV] activation=identity, hidden_layer_sizes=60, max_iter=100, solver=adam \n"
     ]
    },
    {
     "name": "stderr",
     "output_type": "stream",
     "text": [
      "/Users/Strawberry/anaconda3/lib/python3.7/site-packages/sklearn/neural_network/_multilayer_perceptron.py:571: ConvergenceWarning: Stochastic Optimizer: Maximum iterations (100) reached and the optimization hasn't converged yet.\n",
      "  % self.max_iter, ConvergenceWarning)\n",
      "/Users/Strawberry/anaconda3/lib/python3.7/site-packages/sklearn/neural_network/_multilayer_perceptron.py:571: ConvergenceWarning: Stochastic Optimizer: Maximum iterations (100) reached and the optimization hasn't converged yet.\n",
      "  % self.max_iter, ConvergenceWarning)\n",
      "/Users/Strawberry/anaconda3/lib/python3.7/site-packages/sklearn/neural_network/_multilayer_perceptron.py:571: ConvergenceWarning: Stochastic Optimizer: Maximum iterations (100) reached and the optimization hasn't converged yet.\n",
      "  % self.max_iter, ConvergenceWarning)\n",
      "/Users/Strawberry/anaconda3/lib/python3.7/site-packages/sklearn/neural_network/_multilayer_perceptron.py:571: ConvergenceWarning: Stochastic Optimizer: Maximum iterations (100) reached and the optimization hasn't converged yet.\n",
      "  % self.max_iter, ConvergenceWarning)\n"
     ]
    },
    {
     "name": "stdout",
     "output_type": "stream",
     "text": [
      "[CV]  activation=identity, hidden_layer_sizes=60, max_iter=100, solver=adam, score=0.851, total=   0.1s\n",
      "[CV] activation=identity, hidden_layer_sizes=60, max_iter=100, solver=adam \n",
      "[CV]  activation=identity, hidden_layer_sizes=60, max_iter=100, solver=adam, score=0.826, total=   0.0s\n",
      "[CV] activation=identity, hidden_layer_sizes=60, max_iter=200, solver=lbfgs \n",
      "[CV]  activation=identity, hidden_layer_sizes=60, max_iter=200, solver=lbfgs, score=0.810, total=   0.0s\n",
      "[CV] activation=identity, hidden_layer_sizes=60, max_iter=200, solver=lbfgs \n",
      "[CV]  activation=identity, hidden_layer_sizes=60, max_iter=200, solver=lbfgs, score=0.826, total=   0.0s\n",
      "[CV] activation=identity, hidden_layer_sizes=60, max_iter=200, solver=sgd \n"
     ]
    },
    {
     "name": "stderr",
     "output_type": "stream",
     "text": [
      "/Users/Strawberry/anaconda3/lib/python3.7/site-packages/sklearn/neural_network/_multilayer_perceptron.py:571: ConvergenceWarning: Stochastic Optimizer: Maximum iterations (200) reached and the optimization hasn't converged yet.\n",
      "  % self.max_iter, ConvergenceWarning)\n",
      "/Users/Strawberry/anaconda3/lib/python3.7/site-packages/sklearn/neural_network/_multilayer_perceptron.py:571: ConvergenceWarning: Stochastic Optimizer: Maximum iterations (200) reached and the optimization hasn't converged yet.\n",
      "  % self.max_iter, ConvergenceWarning)\n"
     ]
    },
    {
     "name": "stdout",
     "output_type": "stream",
     "text": [
      "[CV]  activation=identity, hidden_layer_sizes=60, max_iter=200, solver=sgd, score=0.769, total=   0.1s\n",
      "[CV] activation=identity, hidden_layer_sizes=60, max_iter=200, solver=sgd \n",
      "[CV]  activation=identity, hidden_layer_sizes=60, max_iter=200, solver=sgd, score=0.802, total=   0.1s\n",
      "[CV] activation=identity, hidden_layer_sizes=60, max_iter=200, solver=adam \n"
     ]
    },
    {
     "name": "stderr",
     "output_type": "stream",
     "text": [
      "/Users/Strawberry/anaconda3/lib/python3.7/site-packages/sklearn/neural_network/_multilayer_perceptron.py:571: ConvergenceWarning: Stochastic Optimizer: Maximum iterations (200) reached and the optimization hasn't converged yet.\n",
      "  % self.max_iter, ConvergenceWarning)\n",
      "/Users/Strawberry/anaconda3/lib/python3.7/site-packages/sklearn/neural_network/_multilayer_perceptron.py:571: ConvergenceWarning: Stochastic Optimizer: Maximum iterations (200) reached and the optimization hasn't converged yet.\n",
      "  % self.max_iter, ConvergenceWarning)\n"
     ]
    },
    {
     "name": "stdout",
     "output_type": "stream",
     "text": [
      "[CV]  activation=identity, hidden_layer_sizes=60, max_iter=200, solver=adam, score=0.851, total=   0.1s\n",
      "[CV] activation=identity, hidden_layer_sizes=60, max_iter=200, solver=adam \n",
      "[CV]  activation=identity, hidden_layer_sizes=60, max_iter=200, solver=adam, score=0.843, total=   0.1s\n",
      "[CV] activation=identity, hidden_layer_sizes=70, max_iter=100, solver=lbfgs \n",
      "[CV]  activation=identity, hidden_layer_sizes=70, max_iter=100, solver=lbfgs, score=0.810, total=   0.0s\n",
      "[CV] activation=identity, hidden_layer_sizes=70, max_iter=100, solver=lbfgs \n",
      "[CV]  activation=identity, hidden_layer_sizes=70, max_iter=100, solver=lbfgs, score=0.826, total=   0.0s\n",
      "[CV] activation=identity, hidden_layer_sizes=70, max_iter=100, solver=sgd \n"
     ]
    },
    {
     "name": "stderr",
     "output_type": "stream",
     "text": [
      "/Users/Strawberry/anaconda3/lib/python3.7/site-packages/sklearn/neural_network/_multilayer_perceptron.py:571: ConvergenceWarning: Stochastic Optimizer: Maximum iterations (100) reached and the optimization hasn't converged yet.\n",
      "  % self.max_iter, ConvergenceWarning)\n",
      "/Users/Strawberry/anaconda3/lib/python3.7/site-packages/sklearn/neural_network/_multilayer_perceptron.py:571: ConvergenceWarning: Stochastic Optimizer: Maximum iterations (100) reached and the optimization hasn't converged yet.\n",
      "  % self.max_iter, ConvergenceWarning)\n",
      "/Users/Strawberry/anaconda3/lib/python3.7/site-packages/sklearn/neural_network/_multilayer_perceptron.py:571: ConvergenceWarning: Stochastic Optimizer: Maximum iterations (100) reached and the optimization hasn't converged yet.\n",
      "  % self.max_iter, ConvergenceWarning)\n",
      "/Users/Strawberry/anaconda3/lib/python3.7/site-packages/sklearn/neural_network/_multilayer_perceptron.py:571: ConvergenceWarning: Stochastic Optimizer: Maximum iterations (100) reached and the optimization hasn't converged yet.\n",
      "  % self.max_iter, ConvergenceWarning)\n"
     ]
    },
    {
     "name": "stdout",
     "output_type": "stream",
     "text": [
      "[CV]  activation=identity, hidden_layer_sizes=70, max_iter=100, solver=sgd, score=0.802, total=   0.1s\n",
      "[CV] activation=identity, hidden_layer_sizes=70, max_iter=100, solver=sgd \n",
      "[CV]  activation=identity, hidden_layer_sizes=70, max_iter=100, solver=sgd, score=0.818, total=   0.1s\n",
      "[CV] activation=identity, hidden_layer_sizes=70, max_iter=100, solver=adam \n",
      "[CV]  activation=identity, hidden_layer_sizes=70, max_iter=100, solver=adam, score=0.860, total=   0.1s\n",
      "[CV] activation=identity, hidden_layer_sizes=70, max_iter=100, solver=adam \n",
      "[CV]  activation=identity, hidden_layer_sizes=70, max_iter=100, solver=adam, score=0.835, total=   0.1s\n",
      "[CV] activation=identity, hidden_layer_sizes=70, max_iter=200, solver=lbfgs \n",
      "[CV]  activation=identity, hidden_layer_sizes=70, max_iter=200, solver=lbfgs, score=0.810, total=   0.0s\n",
      "[CV] activation=identity, hidden_layer_sizes=70, max_iter=200, solver=lbfgs \n",
      "[CV]  activation=identity, hidden_layer_sizes=70, max_iter=200, solver=lbfgs, score=0.826, total=   0.0s\n",
      "[CV] activation=identity, hidden_layer_sizes=70, max_iter=200, solver=sgd \n",
      "[CV]  activation=identity, hidden_layer_sizes=70, max_iter=200, solver=sgd, score=0.818, total=   0.1s\n",
      "[CV] activation=identity, hidden_layer_sizes=70, max_iter=200, solver=sgd \n"
     ]
    },
    {
     "name": "stderr",
     "output_type": "stream",
     "text": [
      "/Users/Strawberry/anaconda3/lib/python3.7/site-packages/sklearn/neural_network/_multilayer_perceptron.py:571: ConvergenceWarning: Stochastic Optimizer: Maximum iterations (200) reached and the optimization hasn't converged yet.\n",
      "  % self.max_iter, ConvergenceWarning)\n",
      "/Users/Strawberry/anaconda3/lib/python3.7/site-packages/sklearn/neural_network/_multilayer_perceptron.py:571: ConvergenceWarning: Stochastic Optimizer: Maximum iterations (200) reached and the optimization hasn't converged yet.\n",
      "  % self.max_iter, ConvergenceWarning)\n"
     ]
    },
    {
     "name": "stdout",
     "output_type": "stream",
     "text": [
      "[CV]  activation=identity, hidden_layer_sizes=70, max_iter=200, solver=sgd, score=0.818, total=   0.1s\n",
      "[CV] activation=identity, hidden_layer_sizes=70, max_iter=200, solver=adam \n",
      "[CV]  activation=identity, hidden_layer_sizes=70, max_iter=200, solver=adam, score=0.843, total=   0.2s\n",
      "[CV] activation=identity, hidden_layer_sizes=70, max_iter=200, solver=adam \n"
     ]
    },
    {
     "name": "stderr",
     "output_type": "stream",
     "text": [
      "/Users/Strawberry/anaconda3/lib/python3.7/site-packages/sklearn/neural_network/_multilayer_perceptron.py:571: ConvergenceWarning: Stochastic Optimizer: Maximum iterations (200) reached and the optimization hasn't converged yet.\n",
      "  % self.max_iter, ConvergenceWarning)\n",
      "/Users/Strawberry/anaconda3/lib/python3.7/site-packages/sklearn/neural_network/_multilayer_perceptron.py:571: ConvergenceWarning: Stochastic Optimizer: Maximum iterations (200) reached and the optimization hasn't converged yet.\n",
      "  % self.max_iter, ConvergenceWarning)\n"
     ]
    },
    {
     "name": "stdout",
     "output_type": "stream",
     "text": [
      "[CV]  activation=identity, hidden_layer_sizes=70, max_iter=200, solver=adam, score=0.851, total=   0.1s\n",
      "[CV] activation=identity, hidden_layer_sizes=80, max_iter=100, solver=lbfgs \n",
      "[CV]  activation=identity, hidden_layer_sizes=80, max_iter=100, solver=lbfgs, score=0.810, total=   0.0s\n",
      "[CV] activation=identity, hidden_layer_sizes=80, max_iter=100, solver=lbfgs \n",
      "[CV]  activation=identity, hidden_layer_sizes=80, max_iter=100, solver=lbfgs, score=0.826, total=   0.1s\n",
      "[CV] activation=identity, hidden_layer_sizes=80, max_iter=100, solver=sgd \n",
      "[CV]  activation=identity, hidden_layer_sizes=80, max_iter=100, solver=sgd, score=0.802, total=   0.1s\n",
      "[CV] activation=identity, hidden_layer_sizes=80, max_iter=100, solver=sgd \n"
     ]
    },
    {
     "name": "stderr",
     "output_type": "stream",
     "text": [
      "/Users/Strawberry/anaconda3/lib/python3.7/site-packages/sklearn/neural_network/_multilayer_perceptron.py:571: ConvergenceWarning: Stochastic Optimizer: Maximum iterations (100) reached and the optimization hasn't converged yet.\n",
      "  % self.max_iter, ConvergenceWarning)\n",
      "/Users/Strawberry/anaconda3/lib/python3.7/site-packages/sklearn/neural_network/_multilayer_perceptron.py:571: ConvergenceWarning: Stochastic Optimizer: Maximum iterations (100) reached and the optimization hasn't converged yet.\n",
      "  % self.max_iter, ConvergenceWarning)\n",
      "/Users/Strawberry/anaconda3/lib/python3.7/site-packages/sklearn/neural_network/_multilayer_perceptron.py:571: ConvergenceWarning: Stochastic Optimizer: Maximum iterations (100) reached and the optimization hasn't converged yet.\n",
      "  % self.max_iter, ConvergenceWarning)\n",
      "/Users/Strawberry/anaconda3/lib/python3.7/site-packages/sklearn/neural_network/_multilayer_perceptron.py:571: ConvergenceWarning: Stochastic Optimizer: Maximum iterations (100) reached and the optimization hasn't converged yet.\n",
      "  % self.max_iter, ConvergenceWarning)\n"
     ]
    },
    {
     "name": "stdout",
     "output_type": "stream",
     "text": [
      "[CV]  activation=identity, hidden_layer_sizes=80, max_iter=100, solver=sgd, score=0.802, total=   0.1s\n",
      "[CV] activation=identity, hidden_layer_sizes=80, max_iter=100, solver=adam \n",
      "[CV]  activation=identity, hidden_layer_sizes=80, max_iter=100, solver=adam, score=0.843, total=   0.1s\n",
      "[CV] activation=identity, hidden_layer_sizes=80, max_iter=100, solver=adam \n",
      "[CV]  activation=identity, hidden_layer_sizes=80, max_iter=100, solver=adam, score=0.826, total=   0.1s\n",
      "[CV] activation=identity, hidden_layer_sizes=80, max_iter=200, solver=lbfgs \n",
      "[CV]  activation=identity, hidden_layer_sizes=80, max_iter=200, solver=lbfgs, score=0.810, total=   0.0s\n",
      "[CV] activation=identity, hidden_layer_sizes=80, max_iter=200, solver=lbfgs \n",
      "[CV]  activation=identity, hidden_layer_sizes=80, max_iter=200, solver=lbfgs, score=0.826, total=   0.0s\n",
      "[CV] activation=identity, hidden_layer_sizes=80, max_iter=200, solver=sgd \n"
     ]
    },
    {
     "name": "stderr",
     "output_type": "stream",
     "text": [
      "/Users/Strawberry/anaconda3/lib/python3.7/site-packages/sklearn/neural_network/_multilayer_perceptron.py:571: ConvergenceWarning: Stochastic Optimizer: Maximum iterations (200) reached and the optimization hasn't converged yet.\n",
      "  % self.max_iter, ConvergenceWarning)\n",
      "/Users/Strawberry/anaconda3/lib/python3.7/site-packages/sklearn/neural_network/_multilayer_perceptron.py:571: ConvergenceWarning: Stochastic Optimizer: Maximum iterations (200) reached and the optimization hasn't converged yet.\n",
      "  % self.max_iter, ConvergenceWarning)\n"
     ]
    },
    {
     "name": "stdout",
     "output_type": "stream",
     "text": [
      "[CV]  activation=identity, hidden_layer_sizes=80, max_iter=200, solver=sgd, score=0.793, total=   0.1s\n",
      "[CV] activation=identity, hidden_layer_sizes=80, max_iter=200, solver=sgd \n",
      "[CV]  activation=identity, hidden_layer_sizes=80, max_iter=200, solver=sgd, score=0.810, total=   0.1s\n",
      "[CV] activation=identity, hidden_layer_sizes=80, max_iter=200, solver=adam \n"
     ]
    },
    {
     "name": "stderr",
     "output_type": "stream",
     "text": [
      "/Users/Strawberry/anaconda3/lib/python3.7/site-packages/sklearn/neural_network/_multilayer_perceptron.py:571: ConvergenceWarning: Stochastic Optimizer: Maximum iterations (200) reached and the optimization hasn't converged yet.\n",
      "  % self.max_iter, ConvergenceWarning)\n"
     ]
    },
    {
     "name": "stdout",
     "output_type": "stream",
     "text": [
      "[CV]  activation=identity, hidden_layer_sizes=80, max_iter=200, solver=adam, score=0.843, total=   0.1s\n",
      "[CV] activation=identity, hidden_layer_sizes=80, max_iter=200, solver=adam \n",
      "[CV]  activation=identity, hidden_layer_sizes=80, max_iter=200, solver=adam, score=0.843, total=   0.1s\n",
      "[CV] activation=identity, hidden_layer_sizes=90, max_iter=100, solver=lbfgs \n",
      "[CV]  activation=identity, hidden_layer_sizes=90, max_iter=100, solver=lbfgs, score=0.810, total=   0.1s\n",
      "[CV] activation=identity, hidden_layer_sizes=90, max_iter=100, solver=lbfgs \n",
      "[CV]  activation=identity, hidden_layer_sizes=90, max_iter=100, solver=lbfgs, score=0.826, total=   0.0s\n",
      "[CV] activation=identity, hidden_layer_sizes=90, max_iter=100, solver=sgd \n",
      "[CV]  activation=identity, hidden_layer_sizes=90, max_iter=100, solver=sgd, score=0.793, total=   0.1s\n",
      "[CV] activation=identity, hidden_layer_sizes=90, max_iter=100, solver=sgd \n",
      "[CV]  activation=identity, hidden_layer_sizes=90, max_iter=100, solver=sgd, score=0.802, total=   0.1s\n",
      "[CV] activation=identity, hidden_layer_sizes=90, max_iter=100, solver=adam \n",
      "[CV]  activation=identity, hidden_layer_sizes=90, max_iter=100, solver=adam, score=0.851, total=   0.1s\n",
      "[CV] activation=identity, hidden_layer_sizes=90, max_iter=100, solver=adam \n"
     ]
    },
    {
     "name": "stderr",
     "output_type": "stream",
     "text": [
      "/Users/Strawberry/anaconda3/lib/python3.7/site-packages/sklearn/neural_network/_multilayer_perceptron.py:571: ConvergenceWarning: Stochastic Optimizer: Maximum iterations (100) reached and the optimization hasn't converged yet.\n",
      "  % self.max_iter, ConvergenceWarning)\n",
      "/Users/Strawberry/anaconda3/lib/python3.7/site-packages/sklearn/neural_network/_multilayer_perceptron.py:571: ConvergenceWarning: Stochastic Optimizer: Maximum iterations (100) reached and the optimization hasn't converged yet.\n",
      "  % self.max_iter, ConvergenceWarning)\n",
      "/Users/Strawberry/anaconda3/lib/python3.7/site-packages/sklearn/neural_network/_multilayer_perceptron.py:571: ConvergenceWarning: Stochastic Optimizer: Maximum iterations (100) reached and the optimization hasn't converged yet.\n",
      "  % self.max_iter, ConvergenceWarning)\n",
      "/Users/Strawberry/anaconda3/lib/python3.7/site-packages/sklearn/neural_network/_multilayer_perceptron.py:571: ConvergenceWarning: Stochastic Optimizer: Maximum iterations (100) reached and the optimization hasn't converged yet.\n",
      "  % self.max_iter, ConvergenceWarning)\n"
     ]
    },
    {
     "name": "stdout",
     "output_type": "stream",
     "text": [
      "[CV]  activation=identity, hidden_layer_sizes=90, max_iter=100, solver=adam, score=0.835, total=   0.1s\n",
      "[CV] activation=identity, hidden_layer_sizes=90, max_iter=200, solver=lbfgs \n",
      "[CV]  activation=identity, hidden_layer_sizes=90, max_iter=200, solver=lbfgs, score=0.810, total=   0.1s\n",
      "[CV] activation=identity, hidden_layer_sizes=90, max_iter=200, solver=lbfgs \n",
      "[CV]  activation=identity, hidden_layer_sizes=90, max_iter=200, solver=lbfgs, score=0.826, total=   0.0s\n",
      "[CV] activation=identity, hidden_layer_sizes=90, max_iter=200, solver=sgd \n"
     ]
    },
    {
     "name": "stderr",
     "output_type": "stream",
     "text": [
      "/Users/Strawberry/anaconda3/lib/python3.7/site-packages/sklearn/neural_network/_multilayer_perceptron.py:571: ConvergenceWarning: Stochastic Optimizer: Maximum iterations (200) reached and the optimization hasn't converged yet.\n",
      "  % self.max_iter, ConvergenceWarning)\n",
      "/Users/Strawberry/anaconda3/lib/python3.7/site-packages/sklearn/neural_network/_multilayer_perceptron.py:571: ConvergenceWarning: Stochastic Optimizer: Maximum iterations (200) reached and the optimization hasn't converged yet.\n",
      "  % self.max_iter, ConvergenceWarning)\n"
     ]
    },
    {
     "name": "stdout",
     "output_type": "stream",
     "text": [
      "[CV]  activation=identity, hidden_layer_sizes=90, max_iter=200, solver=sgd, score=0.793, total=   0.1s\n",
      "[CV] activation=identity, hidden_layer_sizes=90, max_iter=200, solver=sgd \n",
      "[CV]  activation=identity, hidden_layer_sizes=90, max_iter=200, solver=sgd, score=0.802, total=   0.1s\n",
      "[CV] activation=identity, hidden_layer_sizes=90, max_iter=200, solver=adam \n"
     ]
    },
    {
     "name": "stderr",
     "output_type": "stream",
     "text": [
      "/Users/Strawberry/anaconda3/lib/python3.7/site-packages/sklearn/neural_network/_multilayer_perceptron.py:571: ConvergenceWarning: Stochastic Optimizer: Maximum iterations (200) reached and the optimization hasn't converged yet.\n",
      "  % self.max_iter, ConvergenceWarning)\n"
     ]
    },
    {
     "name": "stdout",
     "output_type": "stream",
     "text": [
      "[CV]  activation=identity, hidden_layer_sizes=90, max_iter=200, solver=adam, score=0.851, total=   0.1s\n",
      "[CV] activation=identity, hidden_layer_sizes=90, max_iter=200, solver=adam \n",
      "[CV]  activation=identity, hidden_layer_sizes=90, max_iter=200, solver=adam, score=0.843, total=   0.1s\n",
      "[CV] activation=relu, hidden_layer_sizes=10, max_iter=100, solver=lbfgs \n",
      "[CV]  activation=relu, hidden_layer_sizes=10, max_iter=100, solver=lbfgs, score=0.826, total=   0.0s\n",
      "[CV] activation=relu, hidden_layer_sizes=10, max_iter=100, solver=lbfgs \n",
      "[CV]  activation=relu, hidden_layer_sizes=10, max_iter=100, solver=lbfgs, score=0.777, total=   0.0s\n",
      "[CV] activation=relu, hidden_layer_sizes=10, max_iter=100, solver=sgd \n"
     ]
    },
    {
     "name": "stderr",
     "output_type": "stream",
     "text": [
      "/Users/Strawberry/anaconda3/lib/python3.7/site-packages/sklearn/neural_network/_multilayer_perceptron.py:571: ConvergenceWarning: Stochastic Optimizer: Maximum iterations (100) reached and the optimization hasn't converged yet.\n",
      "  % self.max_iter, ConvergenceWarning)\n",
      "/Users/Strawberry/anaconda3/lib/python3.7/site-packages/sklearn/neural_network/_multilayer_perceptron.py:571: ConvergenceWarning: Stochastic Optimizer: Maximum iterations (100) reached and the optimization hasn't converged yet.\n",
      "  % self.max_iter, ConvergenceWarning)\n",
      "/Users/Strawberry/anaconda3/lib/python3.7/site-packages/sklearn/neural_network/_multilayer_perceptron.py:571: ConvergenceWarning: Stochastic Optimizer: Maximum iterations (100) reached and the optimization hasn't converged yet.\n",
      "  % self.max_iter, ConvergenceWarning)\n",
      "/Users/Strawberry/anaconda3/lib/python3.7/site-packages/sklearn/neural_network/_multilayer_perceptron.py:571: ConvergenceWarning: Stochastic Optimizer: Maximum iterations (100) reached and the optimization hasn't converged yet.\n",
      "  % self.max_iter, ConvergenceWarning)\n"
     ]
    },
    {
     "name": "stdout",
     "output_type": "stream",
     "text": [
      "[CV]  activation=relu, hidden_layer_sizes=10, max_iter=100, solver=sgd, score=0.694, total=   0.1s\n",
      "[CV] activation=relu, hidden_layer_sizes=10, max_iter=100, solver=sgd \n",
      "[CV]  activation=relu, hidden_layer_sizes=10, max_iter=100, solver=sgd, score=0.686, total=   0.1s\n",
      "[CV] activation=relu, hidden_layer_sizes=10, max_iter=100, solver=adam \n",
      "[CV]  activation=relu, hidden_layer_sizes=10, max_iter=100, solver=adam, score=0.793, total=   0.1s\n",
      "[CV] activation=relu, hidden_layer_sizes=10, max_iter=100, solver=adam \n",
      "[CV]  activation=relu, hidden_layer_sizes=10, max_iter=100, solver=adam, score=0.843, total=   0.1s\n",
      "[CV] activation=relu, hidden_layer_sizes=10, max_iter=200, solver=lbfgs \n",
      "[CV]  activation=relu, hidden_layer_sizes=10, max_iter=200, solver=lbfgs, score=0.826, total=   0.0s\n",
      "[CV] activation=relu, hidden_layer_sizes=10, max_iter=200, solver=lbfgs \n",
      "[CV]  activation=relu, hidden_layer_sizes=10, max_iter=200, solver=lbfgs, score=0.777, total=   0.0s\n",
      "[CV] activation=relu, hidden_layer_sizes=10, max_iter=200, solver=sgd \n",
      "[CV]  activation=relu, hidden_layer_sizes=10, max_iter=200, solver=sgd, score=0.744, total=   0.1s\n",
      "[CV] activation=relu, hidden_layer_sizes=10, max_iter=200, solver=sgd \n",
      "[CV]  activation=relu, hidden_layer_sizes=10, max_iter=200, solver=sgd, score=0.769, total=   0.1s\n",
      "[CV] activation=relu, hidden_layer_sizes=10, max_iter=200, solver=adam \n"
     ]
    },
    {
     "name": "stderr",
     "output_type": "stream",
     "text": [
      "/Users/Strawberry/anaconda3/lib/python3.7/site-packages/sklearn/neural_network/_multilayer_perceptron.py:571: ConvergenceWarning: Stochastic Optimizer: Maximum iterations (200) reached and the optimization hasn't converged yet.\n",
      "  % self.max_iter, ConvergenceWarning)\n",
      "/Users/Strawberry/anaconda3/lib/python3.7/site-packages/sklearn/neural_network/_multilayer_perceptron.py:571: ConvergenceWarning: Stochastic Optimizer: Maximum iterations (200) reached and the optimization hasn't converged yet.\n",
      "  % self.max_iter, ConvergenceWarning)\n",
      "/Users/Strawberry/anaconda3/lib/python3.7/site-packages/sklearn/neural_network/_multilayer_perceptron.py:571: ConvergenceWarning: Stochastic Optimizer: Maximum iterations (200) reached and the optimization hasn't converged yet.\n",
      "  % self.max_iter, ConvergenceWarning)\n"
     ]
    },
    {
     "name": "stdout",
     "output_type": "stream",
     "text": [
      "[CV]  activation=relu, hidden_layer_sizes=10, max_iter=200, solver=adam, score=0.810, total=   0.1s\n",
      "[CV] activation=relu, hidden_layer_sizes=10, max_iter=200, solver=adam \n",
      "[CV]  activation=relu, hidden_layer_sizes=10, max_iter=200, solver=adam, score=0.843, total=   0.1s\n",
      "[CV] activation=relu, hidden_layer_sizes=20, max_iter=100, solver=lbfgs \n",
      "[CV]  activation=relu, hidden_layer_sizes=20, max_iter=100, solver=lbfgs, score=0.818, total=   0.0s\n",
      "[CV] activation=relu, hidden_layer_sizes=20, max_iter=100, solver=lbfgs \n",
      "[CV]  activation=relu, hidden_layer_sizes=20, max_iter=100, solver=lbfgs, score=0.810, total=   0.0s\n",
      "[CV] activation=relu, hidden_layer_sizes=20, max_iter=100, solver=sgd \n"
     ]
    },
    {
     "name": "stderr",
     "output_type": "stream",
     "text": [
      "/Users/Strawberry/anaconda3/lib/python3.7/site-packages/sklearn/neural_network/_multilayer_perceptron.py:571: ConvergenceWarning: Stochastic Optimizer: Maximum iterations (200) reached and the optimization hasn't converged yet.\n",
      "  % self.max_iter, ConvergenceWarning)\n",
      "/Users/Strawberry/anaconda3/lib/python3.7/site-packages/sklearn/neural_network/_multilayer_perceptron.py:571: ConvergenceWarning: Stochastic Optimizer: Maximum iterations (100) reached and the optimization hasn't converged yet.\n",
      "  % self.max_iter, ConvergenceWarning)\n"
     ]
    },
    {
     "name": "stdout",
     "output_type": "stream",
     "text": [
      "[CV]  activation=relu, hidden_layer_sizes=20, max_iter=100, solver=sgd, score=0.694, total=   0.1s\n",
      "[CV] activation=relu, hidden_layer_sizes=20, max_iter=100, solver=sgd \n",
      "[CV]  activation=relu, hidden_layer_sizes=20, max_iter=100, solver=sgd, score=0.793, total=   0.1s\n",
      "[CV] activation=relu, hidden_layer_sizes=20, max_iter=100, solver=adam \n",
      "[CV]  activation=relu, hidden_layer_sizes=20, max_iter=100, solver=adam, score=0.793, total=   0.1s\n",
      "[CV] activation=relu, hidden_layer_sizes=20, max_iter=100, solver=adam \n"
     ]
    },
    {
     "name": "stderr",
     "output_type": "stream",
     "text": [
      "/Users/Strawberry/anaconda3/lib/python3.7/site-packages/sklearn/neural_network/_multilayer_perceptron.py:571: ConvergenceWarning: Stochastic Optimizer: Maximum iterations (100) reached and the optimization hasn't converged yet.\n",
      "  % self.max_iter, ConvergenceWarning)\n",
      "/Users/Strawberry/anaconda3/lib/python3.7/site-packages/sklearn/neural_network/_multilayer_perceptron.py:571: ConvergenceWarning: Stochastic Optimizer: Maximum iterations (100) reached and the optimization hasn't converged yet.\n",
      "  % self.max_iter, ConvergenceWarning)\n",
      "/Users/Strawberry/anaconda3/lib/python3.7/site-packages/sklearn/neural_network/_multilayer_perceptron.py:571: ConvergenceWarning: Stochastic Optimizer: Maximum iterations (100) reached and the optimization hasn't converged yet.\n",
      "  % self.max_iter, ConvergenceWarning)\n"
     ]
    },
    {
     "name": "stdout",
     "output_type": "stream",
     "text": [
      "[CV]  activation=relu, hidden_layer_sizes=20, max_iter=100, solver=adam, score=0.818, total=   0.1s\n",
      "[CV] activation=relu, hidden_layer_sizes=20, max_iter=200, solver=lbfgs \n",
      "[CV]  activation=relu, hidden_layer_sizes=20, max_iter=200, solver=lbfgs, score=0.818, total=   0.0s\n",
      "[CV] activation=relu, hidden_layer_sizes=20, max_iter=200, solver=lbfgs \n",
      "[CV]  activation=relu, hidden_layer_sizes=20, max_iter=200, solver=lbfgs, score=0.810, total=   0.0s\n",
      "[CV] activation=relu, hidden_layer_sizes=20, max_iter=200, solver=sgd \n",
      "[CV]  activation=relu, hidden_layer_sizes=20, max_iter=200, solver=sgd, score=0.760, total=   0.1s\n",
      "[CV] activation=relu, hidden_layer_sizes=20, max_iter=200, solver=sgd \n"
     ]
    },
    {
     "name": "stderr",
     "output_type": "stream",
     "text": [
      "/Users/Strawberry/anaconda3/lib/python3.7/site-packages/sklearn/neural_network/_multilayer_perceptron.py:571: ConvergenceWarning: Stochastic Optimizer: Maximum iterations (200) reached and the optimization hasn't converged yet.\n",
      "  % self.max_iter, ConvergenceWarning)\n",
      "/Users/Strawberry/anaconda3/lib/python3.7/site-packages/sklearn/neural_network/_multilayer_perceptron.py:571: ConvergenceWarning: Stochastic Optimizer: Maximum iterations (200) reached and the optimization hasn't converged yet.\n",
      "  % self.max_iter, ConvergenceWarning)\n"
     ]
    },
    {
     "name": "stdout",
     "output_type": "stream",
     "text": [
      "[CV]  activation=relu, hidden_layer_sizes=20, max_iter=200, solver=sgd, score=0.818, total=   0.1s\n",
      "[CV] activation=relu, hidden_layer_sizes=20, max_iter=200, solver=adam \n",
      "[CV]  activation=relu, hidden_layer_sizes=20, max_iter=200, solver=adam, score=0.818, total=   0.1s\n",
      "[CV] activation=relu, hidden_layer_sizes=20, max_iter=200, solver=adam \n"
     ]
    },
    {
     "name": "stderr",
     "output_type": "stream",
     "text": [
      "/Users/Strawberry/anaconda3/lib/python3.7/site-packages/sklearn/neural_network/_multilayer_perceptron.py:571: ConvergenceWarning: Stochastic Optimizer: Maximum iterations (200) reached and the optimization hasn't converged yet.\n",
      "  % self.max_iter, ConvergenceWarning)\n",
      "/Users/Strawberry/anaconda3/lib/python3.7/site-packages/sklearn/neural_network/_multilayer_perceptron.py:571: ConvergenceWarning: Stochastic Optimizer: Maximum iterations (200) reached and the optimization hasn't converged yet.\n",
      "  % self.max_iter, ConvergenceWarning)\n"
     ]
    },
    {
     "name": "stdout",
     "output_type": "stream",
     "text": [
      "[CV]  activation=relu, hidden_layer_sizes=20, max_iter=200, solver=adam, score=0.835, total=   0.1s\n",
      "[CV] activation=relu, hidden_layer_sizes=30, max_iter=100, solver=lbfgs \n",
      "[CV]  activation=relu, hidden_layer_sizes=30, max_iter=100, solver=lbfgs, score=0.810, total=   0.0s\n",
      "[CV] activation=relu, hidden_layer_sizes=30, max_iter=100, solver=lbfgs \n",
      "[CV]  activation=relu, hidden_layer_sizes=30, max_iter=100, solver=lbfgs, score=0.777, total=   0.1s\n",
      "[CV] activation=relu, hidden_layer_sizes=30, max_iter=100, solver=sgd \n",
      "[CV]  activation=relu, hidden_layer_sizes=30, max_iter=100, solver=sgd, score=0.595, total=   0.1s\n",
      "[CV] activation=relu, hidden_layer_sizes=30, max_iter=100, solver=sgd \n"
     ]
    },
    {
     "name": "stderr",
     "output_type": "stream",
     "text": [
      "/Users/Strawberry/anaconda3/lib/python3.7/site-packages/sklearn/neural_network/_multilayer_perceptron.py:470: ConvergenceWarning: lbfgs failed to converge (status=1):\n",
      "STOP: TOTAL NO. of ITERATIONS REACHED LIMIT.\n",
      "\n",
      "Increase the number of iterations (max_iter) or scale the data as shown in:\n",
      "    https://scikit-learn.org/stable/modules/preprocessing.html\n",
      "  self.n_iter_ = _check_optimize_result(\"lbfgs\", opt_res, self.max_iter)\n",
      "/Users/Strawberry/anaconda3/lib/python3.7/site-packages/sklearn/neural_network/_multilayer_perceptron.py:571: ConvergenceWarning: Stochastic Optimizer: Maximum iterations (100) reached and the optimization hasn't converged yet.\n",
      "  % self.max_iter, ConvergenceWarning)\n",
      "/Users/Strawberry/anaconda3/lib/python3.7/site-packages/sklearn/neural_network/_multilayer_perceptron.py:571: ConvergenceWarning: Stochastic Optimizer: Maximum iterations (100) reached and the optimization hasn't converged yet.\n",
      "  % self.max_iter, ConvergenceWarning)\n",
      "/Users/Strawberry/anaconda3/lib/python3.7/site-packages/sklearn/neural_network/_multilayer_perceptron.py:571: ConvergenceWarning: Stochastic Optimizer: Maximum iterations (100) reached and the optimization hasn't converged yet.\n",
      "  % self.max_iter, ConvergenceWarning)\n"
     ]
    },
    {
     "name": "stdout",
     "output_type": "stream",
     "text": [
      "[CV]  activation=relu, hidden_layer_sizes=30, max_iter=100, solver=sgd, score=0.554, total=   0.1s\n",
      "[CV] activation=relu, hidden_layer_sizes=30, max_iter=100, solver=adam \n",
      "[CV]  activation=relu, hidden_layer_sizes=30, max_iter=100, solver=adam, score=0.810, total=   0.1s\n",
      "[CV] activation=relu, hidden_layer_sizes=30, max_iter=100, solver=adam \n",
      "[CV]  activation=relu, hidden_layer_sizes=30, max_iter=100, solver=adam, score=0.843, total=   0.1s\n",
      "[CV] activation=relu, hidden_layer_sizes=30, max_iter=200, solver=lbfgs \n",
      "[CV]  activation=relu, hidden_layer_sizes=30, max_iter=200, solver=lbfgs, score=0.810, total=   0.0s\n",
      "[CV] activation=relu, hidden_layer_sizes=30, max_iter=200, solver=lbfgs \n"
     ]
    },
    {
     "name": "stderr",
     "output_type": "stream",
     "text": [
      "/Users/Strawberry/anaconda3/lib/python3.7/site-packages/sklearn/neural_network/_multilayer_perceptron.py:571: ConvergenceWarning: Stochastic Optimizer: Maximum iterations (100) reached and the optimization hasn't converged yet.\n",
      "  % self.max_iter, ConvergenceWarning)\n"
     ]
    },
    {
     "name": "stdout",
     "output_type": "stream",
     "text": [
      "[CV]  activation=relu, hidden_layer_sizes=30, max_iter=200, solver=lbfgs, score=0.769, total=   0.1s\n",
      "[CV] activation=relu, hidden_layer_sizes=30, max_iter=200, solver=sgd \n",
      "[CV]  activation=relu, hidden_layer_sizes=30, max_iter=200, solver=sgd, score=0.793, total=   0.1s\n",
      "[CV] activation=relu, hidden_layer_sizes=30, max_iter=200, solver=sgd \n"
     ]
    },
    {
     "name": "stderr",
     "output_type": "stream",
     "text": [
      "/Users/Strawberry/anaconda3/lib/python3.7/site-packages/sklearn/neural_network/_multilayer_perceptron.py:571: ConvergenceWarning: Stochastic Optimizer: Maximum iterations (200) reached and the optimization hasn't converged yet.\n",
      "  % self.max_iter, ConvergenceWarning)\n",
      "/Users/Strawberry/anaconda3/lib/python3.7/site-packages/sklearn/neural_network/_multilayer_perceptron.py:571: ConvergenceWarning: Stochastic Optimizer: Maximum iterations (200) reached and the optimization hasn't converged yet.\n",
      "  % self.max_iter, ConvergenceWarning)\n"
     ]
    },
    {
     "name": "stdout",
     "output_type": "stream",
     "text": [
      "[CV]  activation=relu, hidden_layer_sizes=30, max_iter=200, solver=sgd, score=0.793, total=   0.1s\n",
      "[CV] activation=relu, hidden_layer_sizes=30, max_iter=200, solver=adam \n",
      "[CV]  activation=relu, hidden_layer_sizes=30, max_iter=200, solver=adam, score=0.826, total=   0.1s\n",
      "[CV] activation=relu, hidden_layer_sizes=30, max_iter=200, solver=adam \n"
     ]
    },
    {
     "name": "stderr",
     "output_type": "stream",
     "text": [
      "/Users/Strawberry/anaconda3/lib/python3.7/site-packages/sklearn/neural_network/_multilayer_perceptron.py:571: ConvergenceWarning: Stochastic Optimizer: Maximum iterations (200) reached and the optimization hasn't converged yet.\n",
      "  % self.max_iter, ConvergenceWarning)\n",
      "/Users/Strawberry/anaconda3/lib/python3.7/site-packages/sklearn/neural_network/_multilayer_perceptron.py:571: ConvergenceWarning: Stochastic Optimizer: Maximum iterations (200) reached and the optimization hasn't converged yet.\n",
      "  % self.max_iter, ConvergenceWarning)\n"
     ]
    },
    {
     "name": "stdout",
     "output_type": "stream",
     "text": [
      "[CV]  activation=relu, hidden_layer_sizes=30, max_iter=200, solver=adam, score=0.843, total=   0.1s\n",
      "[CV] activation=relu, hidden_layer_sizes=40, max_iter=100, solver=lbfgs \n",
      "[CV]  activation=relu, hidden_layer_sizes=40, max_iter=100, solver=lbfgs, score=0.802, total=   0.0s\n",
      "[CV] activation=relu, hidden_layer_sizes=40, max_iter=100, solver=lbfgs \n",
      "[CV]  activation=relu, hidden_layer_sizes=40, max_iter=100, solver=lbfgs, score=0.785, total=   0.1s\n",
      "[CV] activation=relu, hidden_layer_sizes=40, max_iter=100, solver=sgd \n",
      "[CV]  activation=relu, hidden_layer_sizes=40, max_iter=100, solver=sgd, score=0.595, total=   0.1s\n",
      "[CV] activation=relu, hidden_layer_sizes=40, max_iter=100, solver=sgd \n"
     ]
    },
    {
     "name": "stderr",
     "output_type": "stream",
     "text": [
      "/Users/Strawberry/anaconda3/lib/python3.7/site-packages/sklearn/neural_network/_multilayer_perceptron.py:571: ConvergenceWarning: Stochastic Optimizer: Maximum iterations (100) reached and the optimization hasn't converged yet.\n",
      "  % self.max_iter, ConvergenceWarning)\n",
      "/Users/Strawberry/anaconda3/lib/python3.7/site-packages/sklearn/neural_network/_multilayer_perceptron.py:571: ConvergenceWarning: Stochastic Optimizer: Maximum iterations (100) reached and the optimization hasn't converged yet.\n",
      "  % self.max_iter, ConvergenceWarning)\n",
      "/Users/Strawberry/anaconda3/lib/python3.7/site-packages/sklearn/neural_network/_multilayer_perceptron.py:571: ConvergenceWarning: Stochastic Optimizer: Maximum iterations (100) reached and the optimization hasn't converged yet.\n",
      "  % self.max_iter, ConvergenceWarning)\n"
     ]
    },
    {
     "name": "stdout",
     "output_type": "stream",
     "text": [
      "[CV]  activation=relu, hidden_layer_sizes=40, max_iter=100, solver=sgd, score=0.587, total=   0.1s\n",
      "[CV] activation=relu, hidden_layer_sizes=40, max_iter=100, solver=adam \n",
      "[CV]  activation=relu, hidden_layer_sizes=40, max_iter=100, solver=adam, score=0.777, total=   0.1s\n",
      "[CV] activation=relu, hidden_layer_sizes=40, max_iter=100, solver=adam \n",
      "[CV]  activation=relu, hidden_layer_sizes=40, max_iter=100, solver=adam, score=0.835, total=   0.1s\n",
      "[CV] activation=relu, hidden_layer_sizes=40, max_iter=200, solver=lbfgs \n",
      "[CV]  activation=relu, hidden_layer_sizes=40, max_iter=200, solver=lbfgs, score=0.802, total=   0.0s\n",
      "[CV] activation=relu, hidden_layer_sizes=40, max_iter=200, solver=lbfgs \n"
     ]
    },
    {
     "name": "stderr",
     "output_type": "stream",
     "text": [
      "/Users/Strawberry/anaconda3/lib/python3.7/site-packages/sklearn/neural_network/_multilayer_perceptron.py:571: ConvergenceWarning: Stochastic Optimizer: Maximum iterations (100) reached and the optimization hasn't converged yet.\n",
      "  % self.max_iter, ConvergenceWarning)\n"
     ]
    },
    {
     "name": "stdout",
     "output_type": "stream",
     "text": [
      "[CV]  activation=relu, hidden_layer_sizes=40, max_iter=200, solver=lbfgs, score=0.785, total=   0.1s\n",
      "[CV] activation=relu, hidden_layer_sizes=40, max_iter=200, solver=sgd \n",
      "[CV]  activation=relu, hidden_layer_sizes=40, max_iter=200, solver=sgd, score=0.752, total=   0.1s\n",
      "[CV] activation=relu, hidden_layer_sizes=40, max_iter=200, solver=sgd \n"
     ]
    },
    {
     "name": "stderr",
     "output_type": "stream",
     "text": [
      "/Users/Strawberry/anaconda3/lib/python3.7/site-packages/sklearn/neural_network/_multilayer_perceptron.py:571: ConvergenceWarning: Stochastic Optimizer: Maximum iterations (200) reached and the optimization hasn't converged yet.\n",
      "  % self.max_iter, ConvergenceWarning)\n",
      "/Users/Strawberry/anaconda3/lib/python3.7/site-packages/sklearn/neural_network/_multilayer_perceptron.py:571: ConvergenceWarning: Stochastic Optimizer: Maximum iterations (200) reached and the optimization hasn't converged yet.\n",
      "  % self.max_iter, ConvergenceWarning)\n"
     ]
    },
    {
     "name": "stdout",
     "output_type": "stream",
     "text": [
      "[CV]  activation=relu, hidden_layer_sizes=40, max_iter=200, solver=sgd, score=0.802, total=   0.1s\n",
      "[CV] activation=relu, hidden_layer_sizes=40, max_iter=200, solver=adam \n",
      "[CV]  activation=relu, hidden_layer_sizes=40, max_iter=200, solver=adam, score=0.818, total=   0.1s\n",
      "[CV] activation=relu, hidden_layer_sizes=40, max_iter=200, solver=adam \n"
     ]
    },
    {
     "name": "stderr",
     "output_type": "stream",
     "text": [
      "/Users/Strawberry/anaconda3/lib/python3.7/site-packages/sklearn/neural_network/_multilayer_perceptron.py:571: ConvergenceWarning: Stochastic Optimizer: Maximum iterations (200) reached and the optimization hasn't converged yet.\n",
      "  % self.max_iter, ConvergenceWarning)\n",
      "/Users/Strawberry/anaconda3/lib/python3.7/site-packages/sklearn/neural_network/_multilayer_perceptron.py:571: ConvergenceWarning: Stochastic Optimizer: Maximum iterations (200) reached and the optimization hasn't converged yet.\n",
      "  % self.max_iter, ConvergenceWarning)\n"
     ]
    },
    {
     "name": "stdout",
     "output_type": "stream",
     "text": [
      "[CV]  activation=relu, hidden_layer_sizes=40, max_iter=200, solver=adam, score=0.843, total=   0.1s\n",
      "[CV] activation=relu, hidden_layer_sizes=50, max_iter=100, solver=lbfgs \n",
      "[CV]  activation=relu, hidden_layer_sizes=50, max_iter=100, solver=lbfgs, score=0.810, total=   0.0s\n",
      "[CV] activation=relu, hidden_layer_sizes=50, max_iter=100, solver=lbfgs \n",
      "[CV]  activation=relu, hidden_layer_sizes=50, max_iter=100, solver=lbfgs, score=0.760, total=   0.0s\n",
      "[CV] activation=relu, hidden_layer_sizes=50, max_iter=100, solver=sgd \n",
      "[CV]  activation=relu, hidden_layer_sizes=50, max_iter=100, solver=sgd, score=0.545, total=   0.1s\n",
      "[CV] activation=relu, hidden_layer_sizes=50, max_iter=100, solver=sgd \n"
     ]
    },
    {
     "name": "stderr",
     "output_type": "stream",
     "text": [
      "/Users/Strawberry/anaconda3/lib/python3.7/site-packages/sklearn/neural_network/_multilayer_perceptron.py:571: ConvergenceWarning: Stochastic Optimizer: Maximum iterations (100) reached and the optimization hasn't converged yet.\n",
      "  % self.max_iter, ConvergenceWarning)\n",
      "/Users/Strawberry/anaconda3/lib/python3.7/site-packages/sklearn/neural_network/_multilayer_perceptron.py:571: ConvergenceWarning: Stochastic Optimizer: Maximum iterations (100) reached and the optimization hasn't converged yet.\n",
      "  % self.max_iter, ConvergenceWarning)\n",
      "/Users/Strawberry/anaconda3/lib/python3.7/site-packages/sklearn/neural_network/_multilayer_perceptron.py:571: ConvergenceWarning: Stochastic Optimizer: Maximum iterations (100) reached and the optimization hasn't converged yet.\n",
      "  % self.max_iter, ConvergenceWarning)\n"
     ]
    },
    {
     "name": "stdout",
     "output_type": "stream",
     "text": [
      "[CV]  activation=relu, hidden_layer_sizes=50, max_iter=100, solver=sgd, score=0.521, total=   0.1s\n",
      "[CV] activation=relu, hidden_layer_sizes=50, max_iter=100, solver=adam \n",
      "[CV]  activation=relu, hidden_layer_sizes=50, max_iter=100, solver=adam, score=0.793, total=   0.1s\n",
      "[CV] activation=relu, hidden_layer_sizes=50, max_iter=100, solver=adam \n",
      "[CV]  activation=relu, hidden_layer_sizes=50, max_iter=100, solver=adam, score=0.818, total=   0.1s\n",
      "[CV] activation=relu, hidden_layer_sizes=50, max_iter=200, solver=lbfgs \n",
      "[CV]  activation=relu, hidden_layer_sizes=50, max_iter=200, solver=lbfgs, score=0.810, total=   0.0s\n",
      "[CV] activation=relu, hidden_layer_sizes=50, max_iter=200, solver=lbfgs \n"
     ]
    },
    {
     "name": "stderr",
     "output_type": "stream",
     "text": [
      "/Users/Strawberry/anaconda3/lib/python3.7/site-packages/sklearn/neural_network/_multilayer_perceptron.py:571: ConvergenceWarning: Stochastic Optimizer: Maximum iterations (100) reached and the optimization hasn't converged yet.\n",
      "  % self.max_iter, ConvergenceWarning)\n",
      "/Users/Strawberry/anaconda3/lib/python3.7/site-packages/sklearn/neural_network/_multilayer_perceptron.py:571: ConvergenceWarning: Stochastic Optimizer: Maximum iterations (200) reached and the optimization hasn't converged yet.\n",
      "  % self.max_iter, ConvergenceWarning)\n"
     ]
    },
    {
     "name": "stdout",
     "output_type": "stream",
     "text": [
      "[CV]  activation=relu, hidden_layer_sizes=50, max_iter=200, solver=lbfgs, score=0.760, total=   0.0s\n",
      "[CV] activation=relu, hidden_layer_sizes=50, max_iter=200, solver=sgd \n",
      "[CV]  activation=relu, hidden_layer_sizes=50, max_iter=200, solver=sgd, score=0.760, total=   0.1s\n",
      "[CV] activation=relu, hidden_layer_sizes=50, max_iter=200, solver=sgd \n"
     ]
    },
    {
     "name": "stderr",
     "output_type": "stream",
     "text": [
      "/Users/Strawberry/anaconda3/lib/python3.7/site-packages/sklearn/neural_network/_multilayer_perceptron.py:571: ConvergenceWarning: Stochastic Optimizer: Maximum iterations (200) reached and the optimization hasn't converged yet.\n",
      "  % self.max_iter, ConvergenceWarning)\n",
      "/Users/Strawberry/anaconda3/lib/python3.7/site-packages/sklearn/neural_network/_multilayer_perceptron.py:571: ConvergenceWarning: Stochastic Optimizer: Maximum iterations (200) reached and the optimization hasn't converged yet.\n",
      "  % self.max_iter, ConvergenceWarning)\n"
     ]
    },
    {
     "name": "stdout",
     "output_type": "stream",
     "text": [
      "[CV]  activation=relu, hidden_layer_sizes=50, max_iter=200, solver=sgd, score=0.603, total=   0.1s\n",
      "[CV] activation=relu, hidden_layer_sizes=50, max_iter=200, solver=adam \n",
      "[CV]  activation=relu, hidden_layer_sizes=50, max_iter=200, solver=adam, score=0.843, total=   0.2s\n",
      "[CV] activation=relu, hidden_layer_sizes=50, max_iter=200, solver=adam \n"
     ]
    },
    {
     "name": "stderr",
     "output_type": "stream",
     "text": [
      "/Users/Strawberry/anaconda3/lib/python3.7/site-packages/sklearn/neural_network/_multilayer_perceptron.py:571: ConvergenceWarning: Stochastic Optimizer: Maximum iterations (200) reached and the optimization hasn't converged yet.\n",
      "  % self.max_iter, ConvergenceWarning)\n",
      "/Users/Strawberry/anaconda3/lib/python3.7/site-packages/sklearn/neural_network/_multilayer_perceptron.py:571: ConvergenceWarning: Stochastic Optimizer: Maximum iterations (100) reached and the optimization hasn't converged yet.\n",
      "  % self.max_iter, ConvergenceWarning)\n"
     ]
    },
    {
     "name": "stdout",
     "output_type": "stream",
     "text": [
      "[CV]  activation=relu, hidden_layer_sizes=50, max_iter=200, solver=adam, score=0.843, total=   0.1s\n",
      "[CV] activation=relu, hidden_layer_sizes=60, max_iter=100, solver=lbfgs \n",
      "[CV]  activation=relu, hidden_layer_sizes=60, max_iter=100, solver=lbfgs, score=0.802, total=   0.0s\n",
      "[CV] activation=relu, hidden_layer_sizes=60, max_iter=100, solver=lbfgs \n",
      "[CV]  activation=relu, hidden_layer_sizes=60, max_iter=100, solver=lbfgs, score=0.793, total=   0.1s\n",
      "[CV] activation=relu, hidden_layer_sizes=60, max_iter=100, solver=sgd \n",
      "[CV]  activation=relu, hidden_layer_sizes=60, max_iter=100, solver=sgd, score=0.719, total=   0.1s\n",
      "[CV] activation=relu, hidden_layer_sizes=60, max_iter=100, solver=sgd \n"
     ]
    },
    {
     "name": "stderr",
     "output_type": "stream",
     "text": [
      "/Users/Strawberry/anaconda3/lib/python3.7/site-packages/sklearn/neural_network/_multilayer_perceptron.py:571: ConvergenceWarning: Stochastic Optimizer: Maximum iterations (100) reached and the optimization hasn't converged yet.\n",
      "  % self.max_iter, ConvergenceWarning)\n",
      "/Users/Strawberry/anaconda3/lib/python3.7/site-packages/sklearn/neural_network/_multilayer_perceptron.py:571: ConvergenceWarning: Stochastic Optimizer: Maximum iterations (100) reached and the optimization hasn't converged yet.\n",
      "  % self.max_iter, ConvergenceWarning)\n",
      "/Users/Strawberry/anaconda3/lib/python3.7/site-packages/sklearn/neural_network/_multilayer_perceptron.py:571: ConvergenceWarning: Stochastic Optimizer: Maximum iterations (100) reached and the optimization hasn't converged yet.\n",
      "  % self.max_iter, ConvergenceWarning)\n"
     ]
    },
    {
     "name": "stdout",
     "output_type": "stream",
     "text": [
      "[CV]  activation=relu, hidden_layer_sizes=60, max_iter=100, solver=sgd, score=0.752, total=   0.1s\n",
      "[CV] activation=relu, hidden_layer_sizes=60, max_iter=100, solver=adam \n",
      "[CV]  activation=relu, hidden_layer_sizes=60, max_iter=100, solver=adam, score=0.818, total=   0.1s\n",
      "[CV] activation=relu, hidden_layer_sizes=60, max_iter=100, solver=adam \n",
      "[CV]  activation=relu, hidden_layer_sizes=60, max_iter=100, solver=adam, score=0.818, total=   0.1s\n",
      "[CV] activation=relu, hidden_layer_sizes=60, max_iter=200, solver=lbfgs \n",
      "[CV]  activation=relu, hidden_layer_sizes=60, max_iter=200, solver=lbfgs, score=0.802, total=   0.0s\n",
      "[CV] activation=relu, hidden_layer_sizes=60, max_iter=200, solver=lbfgs \n",
      "[CV]  activation=relu, hidden_layer_sizes=60, max_iter=200, solver=lbfgs, score=0.793, total=   0.1s\n",
      "[CV] activation=relu, hidden_layer_sizes=60, max_iter=200, solver=sgd \n",
      "[CV]  activation=relu, hidden_layer_sizes=60, max_iter=200, solver=sgd, score=0.744, total=   0.1s\n",
      "[CV] activation=relu, hidden_layer_sizes=60, max_iter=200, solver=sgd \n"
     ]
    },
    {
     "name": "stderr",
     "output_type": "stream",
     "text": [
      "/Users/Strawberry/anaconda3/lib/python3.7/site-packages/sklearn/neural_network/_multilayer_perceptron.py:571: ConvergenceWarning: Stochastic Optimizer: Maximum iterations (200) reached and the optimization hasn't converged yet.\n",
      "  % self.max_iter, ConvergenceWarning)\n",
      "/Users/Strawberry/anaconda3/lib/python3.7/site-packages/sklearn/neural_network/_multilayer_perceptron.py:571: ConvergenceWarning: Stochastic Optimizer: Maximum iterations (200) reached and the optimization hasn't converged yet.\n",
      "  % self.max_iter, ConvergenceWarning)\n"
     ]
    },
    {
     "name": "stdout",
     "output_type": "stream",
     "text": [
      "[CV]  activation=relu, hidden_layer_sizes=60, max_iter=200, solver=sgd, score=0.810, total=   0.1s\n",
      "[CV] activation=relu, hidden_layer_sizes=60, max_iter=200, solver=adam \n",
      "[CV]  activation=relu, hidden_layer_sizes=60, max_iter=200, solver=adam, score=0.835, total=   0.2s\n",
      "[CV] activation=relu, hidden_layer_sizes=60, max_iter=200, solver=adam \n"
     ]
    },
    {
     "name": "stderr",
     "output_type": "stream",
     "text": [
      "/Users/Strawberry/anaconda3/lib/python3.7/site-packages/sklearn/neural_network/_multilayer_perceptron.py:571: ConvergenceWarning: Stochastic Optimizer: Maximum iterations (200) reached and the optimization hasn't converged yet.\n",
      "  % self.max_iter, ConvergenceWarning)\n",
      "/Users/Strawberry/anaconda3/lib/python3.7/site-packages/sklearn/neural_network/_multilayer_perceptron.py:571: ConvergenceWarning: Stochastic Optimizer: Maximum iterations (200) reached and the optimization hasn't converged yet.\n",
      "  % self.max_iter, ConvergenceWarning)\n"
     ]
    },
    {
     "name": "stdout",
     "output_type": "stream",
     "text": [
      "[CV]  activation=relu, hidden_layer_sizes=60, max_iter=200, solver=adam, score=0.835, total=   0.1s\n",
      "[CV] activation=relu, hidden_layer_sizes=70, max_iter=100, solver=lbfgs \n",
      "[CV]  activation=relu, hidden_layer_sizes=70, max_iter=100, solver=lbfgs, score=0.777, total=   0.0s\n",
      "[CV] activation=relu, hidden_layer_sizes=70, max_iter=100, solver=lbfgs \n",
      "[CV]  activation=relu, hidden_layer_sizes=70, max_iter=100, solver=lbfgs, score=0.802, total=   0.1s\n",
      "[CV] activation=relu, hidden_layer_sizes=70, max_iter=100, solver=sgd \n"
     ]
    },
    {
     "name": "stderr",
     "output_type": "stream",
     "text": [
      "/Users/Strawberry/anaconda3/lib/python3.7/site-packages/sklearn/neural_network/_multilayer_perceptron.py:470: ConvergenceWarning: lbfgs failed to converge (status=1):\n",
      "STOP: TOTAL NO. of ITERATIONS REACHED LIMIT.\n",
      "\n",
      "Increase the number of iterations (max_iter) or scale the data as shown in:\n",
      "    https://scikit-learn.org/stable/modules/preprocessing.html\n",
      "  self.n_iter_ = _check_optimize_result(\"lbfgs\", opt_res, self.max_iter)\n",
      "/Users/Strawberry/anaconda3/lib/python3.7/site-packages/sklearn/neural_network/_multilayer_perceptron.py:571: ConvergenceWarning: Stochastic Optimizer: Maximum iterations (100) reached and the optimization hasn't converged yet.\n",
      "  % self.max_iter, ConvergenceWarning)\n",
      "/Users/Strawberry/anaconda3/lib/python3.7/site-packages/sklearn/neural_network/_multilayer_perceptron.py:571: ConvergenceWarning: Stochastic Optimizer: Maximum iterations (100) reached and the optimization hasn't converged yet.\n",
      "  % self.max_iter, ConvergenceWarning)\n"
     ]
    },
    {
     "name": "stdout",
     "output_type": "stream",
     "text": [
      "[CV]  activation=relu, hidden_layer_sizes=70, max_iter=100, solver=sgd, score=0.752, total=   0.1s\n",
      "[CV] activation=relu, hidden_layer_sizes=70, max_iter=100, solver=sgd \n",
      "[CV]  activation=relu, hidden_layer_sizes=70, max_iter=100, solver=sgd, score=0.810, total=   0.1s\n",
      "[CV] activation=relu, hidden_layer_sizes=70, max_iter=100, solver=adam \n",
      "[CV]  activation=relu, hidden_layer_sizes=70, max_iter=100, solver=adam, score=0.835, total=   0.1s\n",
      "[CV] activation=relu, hidden_layer_sizes=70, max_iter=100, solver=adam \n"
     ]
    },
    {
     "name": "stderr",
     "output_type": "stream",
     "text": [
      "/Users/Strawberry/anaconda3/lib/python3.7/site-packages/sklearn/neural_network/_multilayer_perceptron.py:571: ConvergenceWarning: Stochastic Optimizer: Maximum iterations (100) reached and the optimization hasn't converged yet.\n",
      "  % self.max_iter, ConvergenceWarning)\n",
      "/Users/Strawberry/anaconda3/lib/python3.7/site-packages/sklearn/neural_network/_multilayer_perceptron.py:571: ConvergenceWarning: Stochastic Optimizer: Maximum iterations (100) reached and the optimization hasn't converged yet.\n",
      "  % self.max_iter, ConvergenceWarning)\n"
     ]
    },
    {
     "name": "stdout",
     "output_type": "stream",
     "text": [
      "[CV]  activation=relu, hidden_layer_sizes=70, max_iter=100, solver=adam, score=0.826, total=   0.1s\n",
      "[CV] activation=relu, hidden_layer_sizes=70, max_iter=200, solver=lbfgs \n",
      "[CV]  activation=relu, hidden_layer_sizes=70, max_iter=200, solver=lbfgs, score=0.777, total=   0.0s\n",
      "[CV] activation=relu, hidden_layer_sizes=70, max_iter=200, solver=lbfgs \n",
      "[CV]  activation=relu, hidden_layer_sizes=70, max_iter=200, solver=lbfgs, score=0.793, total=   0.1s\n",
      "[CV] activation=relu, hidden_layer_sizes=70, max_iter=200, solver=sgd \n"
     ]
    },
    {
     "name": "stderr",
     "output_type": "stream",
     "text": [
      "/Users/Strawberry/anaconda3/lib/python3.7/site-packages/sklearn/neural_network/_multilayer_perceptron.py:571: ConvergenceWarning: Stochastic Optimizer: Maximum iterations (200) reached and the optimization hasn't converged yet.\n",
      "  % self.max_iter, ConvergenceWarning)\n",
      "/Users/Strawberry/anaconda3/lib/python3.7/site-packages/sklearn/neural_network/_multilayer_perceptron.py:571: ConvergenceWarning: Stochastic Optimizer: Maximum iterations (200) reached and the optimization hasn't converged yet.\n",
      "  % self.max_iter, ConvergenceWarning)\n"
     ]
    },
    {
     "name": "stdout",
     "output_type": "stream",
     "text": [
      "[CV]  activation=relu, hidden_layer_sizes=70, max_iter=200, solver=sgd, score=0.777, total=   0.2s\n",
      "[CV] activation=relu, hidden_layer_sizes=70, max_iter=200, solver=sgd \n",
      "[CV]  activation=relu, hidden_layer_sizes=70, max_iter=200, solver=sgd, score=0.818, total=   0.2s\n",
      "[CV] activation=relu, hidden_layer_sizes=70, max_iter=200, solver=adam \n"
     ]
    },
    {
     "name": "stderr",
     "output_type": "stream",
     "text": [
      "/Users/Strawberry/anaconda3/lib/python3.7/site-packages/sklearn/neural_network/_multilayer_perceptron.py:571: ConvergenceWarning: Stochastic Optimizer: Maximum iterations (200) reached and the optimization hasn't converged yet.\n",
      "  % self.max_iter, ConvergenceWarning)\n",
      "/Users/Strawberry/anaconda3/lib/python3.7/site-packages/sklearn/neural_network/_multilayer_perceptron.py:571: ConvergenceWarning: Stochastic Optimizer: Maximum iterations (200) reached and the optimization hasn't converged yet.\n",
      "  % self.max_iter, ConvergenceWarning)\n"
     ]
    },
    {
     "name": "stdout",
     "output_type": "stream",
     "text": [
      "[CV]  activation=relu, hidden_layer_sizes=70, max_iter=200, solver=adam, score=0.851, total=   0.2s\n",
      "[CV] activation=relu, hidden_layer_sizes=70, max_iter=200, solver=adam \n",
      "[CV]  activation=relu, hidden_layer_sizes=70, max_iter=200, solver=adam, score=0.835, total=   0.2s\n",
      "[CV] activation=relu, hidden_layer_sizes=80, max_iter=100, solver=lbfgs \n",
      "[CV]  activation=relu, hidden_layer_sizes=80, max_iter=100, solver=lbfgs, score=0.785, total=   0.0s\n",
      "[CV] activation=relu, hidden_layer_sizes=80, max_iter=100, solver=lbfgs \n",
      "[CV]  activation=relu, hidden_layer_sizes=80, max_iter=100, solver=lbfgs, score=0.793, total=   0.1s\n",
      "[CV] activation=relu, hidden_layer_sizes=80, max_iter=100, solver=sgd \n",
      "[CV]  activation=relu, hidden_layer_sizes=80, max_iter=100, solver=sgd, score=0.802, total=   0.1s\n",
      "[CV] activation=relu, hidden_layer_sizes=80, max_iter=100, solver=sgd \n",
      "[CV]  activation=relu, hidden_layer_sizes=80, max_iter=100, solver=sgd, score=0.810, total=   0.1s\n",
      "[CV] activation=relu, hidden_layer_sizes=80, max_iter=100, solver=adam \n"
     ]
    },
    {
     "name": "stderr",
     "output_type": "stream",
     "text": [
      "/Users/Strawberry/anaconda3/lib/python3.7/site-packages/sklearn/neural_network/_multilayer_perceptron.py:571: ConvergenceWarning: Stochastic Optimizer: Maximum iterations (100) reached and the optimization hasn't converged yet.\n",
      "  % self.max_iter, ConvergenceWarning)\n",
      "/Users/Strawberry/anaconda3/lib/python3.7/site-packages/sklearn/neural_network/_multilayer_perceptron.py:571: ConvergenceWarning: Stochastic Optimizer: Maximum iterations (100) reached and the optimization hasn't converged yet.\n",
      "  % self.max_iter, ConvergenceWarning)\n",
      "/Users/Strawberry/anaconda3/lib/python3.7/site-packages/sklearn/neural_network/_multilayer_perceptron.py:571: ConvergenceWarning: Stochastic Optimizer: Maximum iterations (100) reached and the optimization hasn't converged yet.\n",
      "  % self.max_iter, ConvergenceWarning)\n"
     ]
    },
    {
     "name": "stdout",
     "output_type": "stream",
     "text": [
      "[CV]  activation=relu, hidden_layer_sizes=80, max_iter=100, solver=adam, score=0.826, total=   0.1s\n",
      "[CV] activation=relu, hidden_layer_sizes=80, max_iter=100, solver=adam \n",
      "[CV]  activation=relu, hidden_layer_sizes=80, max_iter=100, solver=adam, score=0.818, total=   0.1s\n",
      "[CV] activation=relu, hidden_layer_sizes=80, max_iter=200, solver=lbfgs \n",
      "[CV]  activation=relu, hidden_layer_sizes=80, max_iter=200, solver=lbfgs, score=0.785, total=   0.0s\n",
      "[CV] activation=relu, hidden_layer_sizes=80, max_iter=200, solver=lbfgs \n",
      "[CV]  activation=relu, hidden_layer_sizes=80, max_iter=200, solver=lbfgs, score=0.793, total=   0.1s\n",
      "[CV] activation=relu, hidden_layer_sizes=80, max_iter=200, solver=sgd \n"
     ]
    },
    {
     "name": "stderr",
     "output_type": "stream",
     "text": [
      "/Users/Strawberry/anaconda3/lib/python3.7/site-packages/sklearn/neural_network/_multilayer_perceptron.py:571: ConvergenceWarning: Stochastic Optimizer: Maximum iterations (100) reached and the optimization hasn't converged yet.\n",
      "  % self.max_iter, ConvergenceWarning)\n",
      "/Users/Strawberry/anaconda3/lib/python3.7/site-packages/sklearn/neural_network/_multilayer_perceptron.py:571: ConvergenceWarning: Stochastic Optimizer: Maximum iterations (200) reached and the optimization hasn't converged yet.\n",
      "  % self.max_iter, ConvergenceWarning)\n",
      "/Users/Strawberry/anaconda3/lib/python3.7/site-packages/sklearn/neural_network/_multilayer_perceptron.py:571: ConvergenceWarning: Stochastic Optimizer: Maximum iterations (200) reached and the optimization hasn't converged yet.\n",
      "  % self.max_iter, ConvergenceWarning)\n"
     ]
    },
    {
     "name": "stdout",
     "output_type": "stream",
     "text": [
      "[CV]  activation=relu, hidden_layer_sizes=80, max_iter=200, solver=sgd, score=0.793, total=   0.2s\n",
      "[CV] activation=relu, hidden_layer_sizes=80, max_iter=200, solver=sgd \n",
      "[CV]  activation=relu, hidden_layer_sizes=80, max_iter=200, solver=sgd, score=0.810, total=   0.1s\n",
      "[CV] activation=relu, hidden_layer_sizes=80, max_iter=200, solver=adam \n"
     ]
    },
    {
     "name": "stderr",
     "output_type": "stream",
     "text": [
      "/Users/Strawberry/anaconda3/lib/python3.7/site-packages/sklearn/neural_network/_multilayer_perceptron.py:571: ConvergenceWarning: Stochastic Optimizer: Maximum iterations (200) reached and the optimization hasn't converged yet.\n",
      "  % self.max_iter, ConvergenceWarning)\n",
      "/Users/Strawberry/anaconda3/lib/python3.7/site-packages/sklearn/neural_network/_multilayer_perceptron.py:571: ConvergenceWarning: Stochastic Optimizer: Maximum iterations (200) reached and the optimization hasn't converged yet.\n",
      "  % self.max_iter, ConvergenceWarning)\n"
     ]
    },
    {
     "name": "stdout",
     "output_type": "stream",
     "text": [
      "[CV]  activation=relu, hidden_layer_sizes=80, max_iter=200, solver=adam, score=0.851, total=   0.2s\n",
      "[CV] activation=relu, hidden_layer_sizes=80, max_iter=200, solver=adam \n",
      "[CV]  activation=relu, hidden_layer_sizes=80, max_iter=200, solver=adam, score=0.835, total=   0.2s\n",
      "[CV] activation=relu, hidden_layer_sizes=90, max_iter=100, solver=lbfgs \n",
      "[CV]  activation=relu, hidden_layer_sizes=90, max_iter=100, solver=lbfgs, score=0.802, total=   0.0s\n",
      "[CV] activation=relu, hidden_layer_sizes=90, max_iter=100, solver=lbfgs \n"
     ]
    },
    {
     "name": "stderr",
     "output_type": "stream",
     "text": [
      "/Users/Strawberry/anaconda3/lib/python3.7/site-packages/sklearn/neural_network/_multilayer_perceptron.py:470: ConvergenceWarning: lbfgs failed to converge (status=1):\n",
      "STOP: TOTAL NO. of ITERATIONS REACHED LIMIT.\n",
      "\n",
      "Increase the number of iterations (max_iter) or scale the data as shown in:\n",
      "    https://scikit-learn.org/stable/modules/preprocessing.html\n",
      "  self.n_iter_ = _check_optimize_result(\"lbfgs\", opt_res, self.max_iter)\n",
      "/Users/Strawberry/anaconda3/lib/python3.7/site-packages/sklearn/neural_network/_multilayer_perceptron.py:571: ConvergenceWarning: Stochastic Optimizer: Maximum iterations (100) reached and the optimization hasn't converged yet.\n",
      "  % self.max_iter, ConvergenceWarning)\n",
      "/Users/Strawberry/anaconda3/lib/python3.7/site-packages/sklearn/neural_network/_multilayer_perceptron.py:571: ConvergenceWarning: Stochastic Optimizer: Maximum iterations (100) reached and the optimization hasn't converged yet.\n",
      "  % self.max_iter, ConvergenceWarning)\n"
     ]
    },
    {
     "name": "stdout",
     "output_type": "stream",
     "text": [
      "[CV]  activation=relu, hidden_layer_sizes=90, max_iter=100, solver=lbfgs, score=0.818, total=   0.1s\n",
      "[CV] activation=relu, hidden_layer_sizes=90, max_iter=100, solver=sgd \n",
      "[CV]  activation=relu, hidden_layer_sizes=90, max_iter=100, solver=sgd, score=0.727, total=   0.1s\n",
      "[CV] activation=relu, hidden_layer_sizes=90, max_iter=100, solver=sgd \n",
      "[CV]  activation=relu, hidden_layer_sizes=90, max_iter=100, solver=sgd, score=0.793, total=   0.1s\n",
      "[CV] activation=relu, hidden_layer_sizes=90, max_iter=100, solver=adam \n"
     ]
    },
    {
     "name": "stderr",
     "output_type": "stream",
     "text": [
      "/Users/Strawberry/anaconda3/lib/python3.7/site-packages/sklearn/neural_network/_multilayer_perceptron.py:571: ConvergenceWarning: Stochastic Optimizer: Maximum iterations (100) reached and the optimization hasn't converged yet.\n",
      "  % self.max_iter, ConvergenceWarning)\n",
      "/Users/Strawberry/anaconda3/lib/python3.7/site-packages/sklearn/neural_network/_multilayer_perceptron.py:571: ConvergenceWarning: Stochastic Optimizer: Maximum iterations (100) reached and the optimization hasn't converged yet.\n",
      "  % self.max_iter, ConvergenceWarning)\n"
     ]
    },
    {
     "name": "stdout",
     "output_type": "stream",
     "text": [
      "[CV]  activation=relu, hidden_layer_sizes=90, max_iter=100, solver=adam, score=0.843, total=   0.1s\n",
      "[CV] activation=relu, hidden_layer_sizes=90, max_iter=100, solver=adam \n",
      "[CV]  activation=relu, hidden_layer_sizes=90, max_iter=100, solver=adam, score=0.835, total=   0.1s\n",
      "[CV] activation=relu, hidden_layer_sizes=90, max_iter=200, solver=lbfgs \n",
      "[CV]  activation=relu, hidden_layer_sizes=90, max_iter=200, solver=lbfgs, score=0.802, total=   0.0s\n",
      "[CV] activation=relu, hidden_layer_sizes=90, max_iter=200, solver=lbfgs \n",
      "[CV]  activation=relu, hidden_layer_sizes=90, max_iter=200, solver=lbfgs, score=0.802, total=   0.1s\n",
      "[CV] activation=relu, hidden_layer_sizes=90, max_iter=200, solver=sgd \n",
      "[CV]  activation=relu, hidden_layer_sizes=90, max_iter=200, solver=sgd, score=0.802, total=   0.1s\n",
      "[CV] activation=relu, hidden_layer_sizes=90, max_iter=200, solver=sgd \n"
     ]
    },
    {
     "name": "stderr",
     "output_type": "stream",
     "text": [
      "/Users/Strawberry/anaconda3/lib/python3.7/site-packages/sklearn/neural_network/_multilayer_perceptron.py:571: ConvergenceWarning: Stochastic Optimizer: Maximum iterations (200) reached and the optimization hasn't converged yet.\n",
      "  % self.max_iter, ConvergenceWarning)\n",
      "/Users/Strawberry/anaconda3/lib/python3.7/site-packages/sklearn/neural_network/_multilayer_perceptron.py:571: ConvergenceWarning: Stochastic Optimizer: Maximum iterations (200) reached and the optimization hasn't converged yet.\n",
      "  % self.max_iter, ConvergenceWarning)\n"
     ]
    },
    {
     "name": "stdout",
     "output_type": "stream",
     "text": [
      "[CV]  activation=relu, hidden_layer_sizes=90, max_iter=200, solver=sgd, score=0.810, total=   0.1s\n",
      "[CV] activation=relu, hidden_layer_sizes=90, max_iter=200, solver=adam \n",
      "[CV]  activation=relu, hidden_layer_sizes=90, max_iter=200, solver=adam, score=0.843, total=   0.2s\n",
      "[CV] activation=relu, hidden_layer_sizes=90, max_iter=200, solver=adam \n"
     ]
    },
    {
     "name": "stderr",
     "output_type": "stream",
     "text": [
      "/Users/Strawberry/anaconda3/lib/python3.7/site-packages/sklearn/neural_network/_multilayer_perceptron.py:571: ConvergenceWarning: Stochastic Optimizer: Maximum iterations (200) reached and the optimization hasn't converged yet.\n",
      "  % self.max_iter, ConvergenceWarning)\n",
      "/Users/Strawberry/anaconda3/lib/python3.7/site-packages/sklearn/neural_network/_multilayer_perceptron.py:571: ConvergenceWarning: Stochastic Optimizer: Maximum iterations (200) reached and the optimization hasn't converged yet.\n",
      "  % self.max_iter, ConvergenceWarning)\n"
     ]
    },
    {
     "name": "stdout",
     "output_type": "stream",
     "text": [
      "[CV]  activation=relu, hidden_layer_sizes=90, max_iter=200, solver=adam, score=0.843, total=   0.2s\n",
      "[CV] activation=tanh, hidden_layer_sizes=10, max_iter=100, solver=lbfgs \n",
      "[CV]  activation=tanh, hidden_layer_sizes=10, max_iter=100, solver=lbfgs, score=0.793, total=   0.0s\n",
      "[CV] activation=tanh, hidden_layer_sizes=10, max_iter=100, solver=lbfgs \n",
      "[CV]  activation=tanh, hidden_layer_sizes=10, max_iter=100, solver=lbfgs, score=0.769, total=   0.0s\n",
      "[CV] activation=tanh, hidden_layer_sizes=10, max_iter=100, solver=sgd \n",
      "[CV]  activation=tanh, hidden_layer_sizes=10, max_iter=100, solver=sgd, score=0.769, total=   0.0s\n",
      "[CV] activation=tanh, hidden_layer_sizes=10, max_iter=100, solver=sgd \n",
      "[CV]  activation=tanh, hidden_layer_sizes=10, max_iter=100, solver=sgd, score=0.802, total=   0.0s\n",
      "[CV] activation=tanh, hidden_layer_sizes=10, max_iter=100, solver=adam \n"
     ]
    },
    {
     "name": "stderr",
     "output_type": "stream",
     "text": [
      "/Users/Strawberry/anaconda3/lib/python3.7/site-packages/sklearn/neural_network/_multilayer_perceptron.py:571: ConvergenceWarning: Stochastic Optimizer: Maximum iterations (100) reached and the optimization hasn't converged yet.\n",
      "  % self.max_iter, ConvergenceWarning)\n",
      "/Users/Strawberry/anaconda3/lib/python3.7/site-packages/sklearn/neural_network/_multilayer_perceptron.py:571: ConvergenceWarning: Stochastic Optimizer: Maximum iterations (100) reached and the optimization hasn't converged yet.\n",
      "  % self.max_iter, ConvergenceWarning)\n",
      "/Users/Strawberry/anaconda3/lib/python3.7/site-packages/sklearn/neural_network/_multilayer_perceptron.py:571: ConvergenceWarning: Stochastic Optimizer: Maximum iterations (100) reached and the optimization hasn't converged yet.\n",
      "  % self.max_iter, ConvergenceWarning)\n",
      "/Users/Strawberry/anaconda3/lib/python3.7/site-packages/sklearn/neural_network/_multilayer_perceptron.py:571: ConvergenceWarning: Stochastic Optimizer: Maximum iterations (100) reached and the optimization hasn't converged yet.\n",
      "  % self.max_iter, ConvergenceWarning)\n"
     ]
    },
    {
     "name": "stdout",
     "output_type": "stream",
     "text": [
      "[CV]  activation=tanh, hidden_layer_sizes=10, max_iter=100, solver=adam, score=0.802, total=   0.1s\n",
      "[CV] activation=tanh, hidden_layer_sizes=10, max_iter=100, solver=adam \n",
      "[CV]  activation=tanh, hidden_layer_sizes=10, max_iter=100, solver=adam, score=0.835, total=   0.0s\n",
      "[CV] activation=tanh, hidden_layer_sizes=10, max_iter=200, solver=lbfgs \n",
      "[CV]  activation=tanh, hidden_layer_sizes=10, max_iter=200, solver=lbfgs, score=0.793, total=   0.0s\n",
      "[CV] activation=tanh, hidden_layer_sizes=10, max_iter=200, solver=lbfgs \n",
      "[CV]  activation=tanh, hidden_layer_sizes=10, max_iter=200, solver=lbfgs, score=0.769, total=   0.0s\n",
      "[CV] activation=tanh, hidden_layer_sizes=10, max_iter=200, solver=sgd \n",
      "[CV]  activation=tanh, hidden_layer_sizes=10, max_iter=200, solver=sgd, score=0.802, total=   0.1s\n",
      "[CV] activation=tanh, hidden_layer_sizes=10, max_iter=200, solver=sgd \n"
     ]
    },
    {
     "name": "stderr",
     "output_type": "stream",
     "text": [
      "/Users/Strawberry/anaconda3/lib/python3.7/site-packages/sklearn/neural_network/_multilayer_perceptron.py:571: ConvergenceWarning: Stochastic Optimizer: Maximum iterations (200) reached and the optimization hasn't converged yet.\n",
      "  % self.max_iter, ConvergenceWarning)\n",
      "/Users/Strawberry/anaconda3/lib/python3.7/site-packages/sklearn/neural_network/_multilayer_perceptron.py:571: ConvergenceWarning: Stochastic Optimizer: Maximum iterations (200) reached and the optimization hasn't converged yet.\n",
      "  % self.max_iter, ConvergenceWarning)\n",
      "/Users/Strawberry/anaconda3/lib/python3.7/site-packages/sklearn/neural_network/_multilayer_perceptron.py:571: ConvergenceWarning: Stochastic Optimizer: Maximum iterations (200) reached and the optimization hasn't converged yet.\n",
      "  % self.max_iter, ConvergenceWarning)\n"
     ]
    },
    {
     "name": "stdout",
     "output_type": "stream",
     "text": [
      "[CV]  activation=tanh, hidden_layer_sizes=10, max_iter=200, solver=sgd, score=0.826, total=   0.1s\n",
      "[CV] activation=tanh, hidden_layer_sizes=10, max_iter=200, solver=adam \n",
      "[CV]  activation=tanh, hidden_layer_sizes=10, max_iter=200, solver=adam, score=0.826, total=   0.1s\n",
      "[CV] activation=tanh, hidden_layer_sizes=10, max_iter=200, solver=adam \n",
      "[CV]  activation=tanh, hidden_layer_sizes=10, max_iter=200, solver=adam, score=0.826, total=   0.1s\n",
      "[CV] activation=tanh, hidden_layer_sizes=20, max_iter=100, solver=lbfgs \n",
      "[CV]  activation=tanh, hidden_layer_sizes=20, max_iter=100, solver=lbfgs, score=0.818, total=   0.0s\n",
      "[CV] activation=tanh, hidden_layer_sizes=20, max_iter=100, solver=lbfgs \n"
     ]
    },
    {
     "name": "stderr",
     "output_type": "stream",
     "text": [
      "/Users/Strawberry/anaconda3/lib/python3.7/site-packages/sklearn/neural_network/_multilayer_perceptron.py:571: ConvergenceWarning: Stochastic Optimizer: Maximum iterations (200) reached and the optimization hasn't converged yet.\n",
      "  % self.max_iter, ConvergenceWarning)\n",
      "/Users/Strawberry/anaconda3/lib/python3.7/site-packages/sklearn/neural_network/_multilayer_perceptron.py:571: ConvergenceWarning: Stochastic Optimizer: Maximum iterations (100) reached and the optimization hasn't converged yet.\n",
      "  % self.max_iter, ConvergenceWarning)\n",
      "/Users/Strawberry/anaconda3/lib/python3.7/site-packages/sklearn/neural_network/_multilayer_perceptron.py:571: ConvergenceWarning: Stochastic Optimizer: Maximum iterations (100) reached and the optimization hasn't converged yet.\n",
      "  % self.max_iter, ConvergenceWarning)\n"
     ]
    },
    {
     "name": "stdout",
     "output_type": "stream",
     "text": [
      "[CV]  activation=tanh, hidden_layer_sizes=20, max_iter=100, solver=lbfgs, score=0.818, total=   0.1s\n",
      "[CV] activation=tanh, hidden_layer_sizes=20, max_iter=100, solver=sgd \n",
      "[CV]  activation=tanh, hidden_layer_sizes=20, max_iter=100, solver=sgd, score=0.769, total=   0.0s\n",
      "[CV] activation=tanh, hidden_layer_sizes=20, max_iter=100, solver=sgd \n",
      "[CV]  activation=tanh, hidden_layer_sizes=20, max_iter=100, solver=sgd, score=0.818, total=   0.1s\n",
      "[CV] activation=tanh, hidden_layer_sizes=20, max_iter=100, solver=adam \n",
      "[CV]  activation=tanh, hidden_layer_sizes=20, max_iter=100, solver=adam, score=0.793, total=   0.1s\n",
      "[CV] activation=tanh, hidden_layer_sizes=20, max_iter=100, solver=adam \n"
     ]
    },
    {
     "name": "stderr",
     "output_type": "stream",
     "text": [
      "/Users/Strawberry/anaconda3/lib/python3.7/site-packages/sklearn/neural_network/_multilayer_perceptron.py:571: ConvergenceWarning: Stochastic Optimizer: Maximum iterations (100) reached and the optimization hasn't converged yet.\n",
      "  % self.max_iter, ConvergenceWarning)\n",
      "/Users/Strawberry/anaconda3/lib/python3.7/site-packages/sklearn/neural_network/_multilayer_perceptron.py:571: ConvergenceWarning: Stochastic Optimizer: Maximum iterations (100) reached and the optimization hasn't converged yet.\n",
      "  % self.max_iter, ConvergenceWarning)\n"
     ]
    },
    {
     "name": "stdout",
     "output_type": "stream",
     "text": [
      "[CV]  activation=tanh, hidden_layer_sizes=20, max_iter=100, solver=adam, score=0.835, total=   0.1s\n",
      "[CV] activation=tanh, hidden_layer_sizes=20, max_iter=200, solver=lbfgs \n",
      "[CV]  activation=tanh, hidden_layer_sizes=20, max_iter=200, solver=lbfgs, score=0.818, total=   0.0s\n",
      "[CV] activation=tanh, hidden_layer_sizes=20, max_iter=200, solver=lbfgs \n",
      "[CV]  activation=tanh, hidden_layer_sizes=20, max_iter=200, solver=lbfgs, score=0.818, total=   0.0s\n",
      "[CV] activation=tanh, hidden_layer_sizes=20, max_iter=200, solver=sgd \n",
      "[CV]  activation=tanh, hidden_layer_sizes=20, max_iter=200, solver=sgd, score=0.777, total=   0.1s\n",
      "[CV] activation=tanh, hidden_layer_sizes=20, max_iter=200, solver=sgd \n"
     ]
    },
    {
     "name": "stderr",
     "output_type": "stream",
     "text": [
      "/Users/Strawberry/anaconda3/lib/python3.7/site-packages/sklearn/neural_network/_multilayer_perceptron.py:571: ConvergenceWarning: Stochastic Optimizer: Maximum iterations (200) reached and the optimization hasn't converged yet.\n",
      "  % self.max_iter, ConvergenceWarning)\n",
      "/Users/Strawberry/anaconda3/lib/python3.7/site-packages/sklearn/neural_network/_multilayer_perceptron.py:571: ConvergenceWarning: Stochastic Optimizer: Maximum iterations (200) reached and the optimization hasn't converged yet.\n",
      "  % self.max_iter, ConvergenceWarning)\n",
      "/Users/Strawberry/anaconda3/lib/python3.7/site-packages/sklearn/neural_network/_multilayer_perceptron.py:571: ConvergenceWarning: Stochastic Optimizer: Maximum iterations (200) reached and the optimization hasn't converged yet.\n",
      "  % self.max_iter, ConvergenceWarning)\n"
     ]
    },
    {
     "name": "stdout",
     "output_type": "stream",
     "text": [
      "[CV]  activation=tanh, hidden_layer_sizes=20, max_iter=200, solver=sgd, score=0.810, total=   0.1s\n",
      "[CV] activation=tanh, hidden_layer_sizes=20, max_iter=200, solver=adam \n",
      "[CV]  activation=tanh, hidden_layer_sizes=20, max_iter=200, solver=adam, score=0.835, total=   0.1s\n",
      "[CV] activation=tanh, hidden_layer_sizes=20, max_iter=200, solver=adam \n"
     ]
    },
    {
     "name": "stderr",
     "output_type": "stream",
     "text": [
      "/Users/Strawberry/anaconda3/lib/python3.7/site-packages/sklearn/neural_network/_multilayer_perceptron.py:571: ConvergenceWarning: Stochastic Optimizer: Maximum iterations (200) reached and the optimization hasn't converged yet.\n",
      "  % self.max_iter, ConvergenceWarning)\n",
      "/Users/Strawberry/anaconda3/lib/python3.7/site-packages/sklearn/neural_network/_multilayer_perceptron.py:571: ConvergenceWarning: Stochastic Optimizer: Maximum iterations (100) reached and the optimization hasn't converged yet.\n",
      "  % self.max_iter, ConvergenceWarning)\n",
      "/Users/Strawberry/anaconda3/lib/python3.7/site-packages/sklearn/neural_network/_multilayer_perceptron.py:571: ConvergenceWarning: Stochastic Optimizer: Maximum iterations (100) reached and the optimization hasn't converged yet.\n",
      "  % self.max_iter, ConvergenceWarning)\n"
     ]
    },
    {
     "name": "stdout",
     "output_type": "stream",
     "text": [
      "[CV]  activation=tanh, hidden_layer_sizes=20, max_iter=200, solver=adam, score=0.835, total=   0.1s\n",
      "[CV] activation=tanh, hidden_layer_sizes=30, max_iter=100, solver=lbfgs \n",
      "[CV]  activation=tanh, hidden_layer_sizes=30, max_iter=100, solver=lbfgs, score=0.793, total=   0.0s\n",
      "[CV] activation=tanh, hidden_layer_sizes=30, max_iter=100, solver=lbfgs \n",
      "[CV]  activation=tanh, hidden_layer_sizes=30, max_iter=100, solver=lbfgs, score=0.793, total=   0.0s\n",
      "[CV] activation=tanh, hidden_layer_sizes=30, max_iter=100, solver=sgd \n",
      "[CV]  activation=tanh, hidden_layer_sizes=30, max_iter=100, solver=sgd, score=0.636, total=   0.1s\n",
      "[CV] activation=tanh, hidden_layer_sizes=30, max_iter=100, solver=sgd \n",
      "[CV]  activation=tanh, hidden_layer_sizes=30, max_iter=100, solver=sgd, score=0.645, total=   0.1s\n",
      "[CV] activation=tanh, hidden_layer_sizes=30, max_iter=100, solver=adam \n"
     ]
    },
    {
     "name": "stderr",
     "output_type": "stream",
     "text": [
      "/Users/Strawberry/anaconda3/lib/python3.7/site-packages/sklearn/neural_network/_multilayer_perceptron.py:571: ConvergenceWarning: Stochastic Optimizer: Maximum iterations (100) reached and the optimization hasn't converged yet.\n",
      "  % self.max_iter, ConvergenceWarning)\n",
      "/Users/Strawberry/anaconda3/lib/python3.7/site-packages/sklearn/neural_network/_multilayer_perceptron.py:571: ConvergenceWarning: Stochastic Optimizer: Maximum iterations (100) reached and the optimization hasn't converged yet.\n",
      "  % self.max_iter, ConvergenceWarning)\n"
     ]
    },
    {
     "name": "stdout",
     "output_type": "stream",
     "text": [
      "[CV]  activation=tanh, hidden_layer_sizes=30, max_iter=100, solver=adam, score=0.835, total=   0.1s\n",
      "[CV] activation=tanh, hidden_layer_sizes=30, max_iter=100, solver=adam \n",
      "[CV]  activation=tanh, hidden_layer_sizes=30, max_iter=100, solver=adam, score=0.826, total=   0.1s\n",
      "[CV] activation=tanh, hidden_layer_sizes=30, max_iter=200, solver=lbfgs \n",
      "[CV]  activation=tanh, hidden_layer_sizes=30, max_iter=200, solver=lbfgs, score=0.793, total=   0.0s\n",
      "[CV] activation=tanh, hidden_layer_sizes=30, max_iter=200, solver=lbfgs \n",
      "[CV]  activation=tanh, hidden_layer_sizes=30, max_iter=200, solver=lbfgs, score=0.793, total=   0.0s\n",
      "[CV] activation=tanh, hidden_layer_sizes=30, max_iter=200, solver=sgd \n"
     ]
    },
    {
     "name": "stderr",
     "output_type": "stream",
     "text": [
      "/Users/Strawberry/anaconda3/lib/python3.7/site-packages/sklearn/neural_network/_multilayer_perceptron.py:571: ConvergenceWarning: Stochastic Optimizer: Maximum iterations (200) reached and the optimization hasn't converged yet.\n",
      "  % self.max_iter, ConvergenceWarning)\n",
      "/Users/Strawberry/anaconda3/lib/python3.7/site-packages/sklearn/neural_network/_multilayer_perceptron.py:571: ConvergenceWarning: Stochastic Optimizer: Maximum iterations (200) reached and the optimization hasn't converged yet.\n",
      "  % self.max_iter, ConvergenceWarning)\n"
     ]
    },
    {
     "name": "stdout",
     "output_type": "stream",
     "text": [
      "[CV]  activation=tanh, hidden_layer_sizes=30, max_iter=200, solver=sgd, score=0.810, total=   0.1s\n",
      "[CV] activation=tanh, hidden_layer_sizes=30, max_iter=200, solver=sgd \n",
      "[CV]  activation=tanh, hidden_layer_sizes=30, max_iter=200, solver=sgd, score=0.843, total=   0.1s\n",
      "[CV] activation=tanh, hidden_layer_sizes=30, max_iter=200, solver=adam \n"
     ]
    },
    {
     "name": "stderr",
     "output_type": "stream",
     "text": [
      "/Users/Strawberry/anaconda3/lib/python3.7/site-packages/sklearn/neural_network/_multilayer_perceptron.py:571: ConvergenceWarning: Stochastic Optimizer: Maximum iterations (200) reached and the optimization hasn't converged yet.\n",
      "  % self.max_iter, ConvergenceWarning)\n",
      "/Users/Strawberry/anaconda3/lib/python3.7/site-packages/sklearn/neural_network/_multilayer_perceptron.py:571: ConvergenceWarning: Stochastic Optimizer: Maximum iterations (200) reached and the optimization hasn't converged yet.\n",
      "  % self.max_iter, ConvergenceWarning)\n"
     ]
    },
    {
     "name": "stdout",
     "output_type": "stream",
     "text": [
      "[CV]  activation=tanh, hidden_layer_sizes=30, max_iter=200, solver=adam, score=0.860, total=   0.1s\n",
      "[CV] activation=tanh, hidden_layer_sizes=30, max_iter=200, solver=adam \n",
      "[CV]  activation=tanh, hidden_layer_sizes=30, max_iter=200, solver=adam, score=0.843, total=   0.1s\n",
      "[CV] activation=tanh, hidden_layer_sizes=40, max_iter=100, solver=lbfgs \n",
      "[CV]  activation=tanh, hidden_layer_sizes=40, max_iter=100, solver=lbfgs, score=0.777, total=   0.0s\n",
      "[CV] activation=tanh, hidden_layer_sizes=40, max_iter=100, solver=lbfgs \n",
      "[CV]  activation=tanh, hidden_layer_sizes=40, max_iter=100, solver=lbfgs, score=0.719, total=   0.1s\n",
      "[CV] activation=tanh, hidden_layer_sizes=40, max_iter=100, solver=sgd \n",
      "[CV]  activation=tanh, hidden_layer_sizes=40, max_iter=100, solver=sgd, score=0.711, total=   0.1s\n",
      "[CV] activation=tanh, hidden_layer_sizes=40, max_iter=100, solver=sgd \n",
      "[CV]  activation=tanh, hidden_layer_sizes=40, max_iter=100, solver=sgd, score=0.736, total=   0.1s\n",
      "[CV] activation=tanh, hidden_layer_sizes=40, max_iter=100, solver=adam \n",
      "[CV]  activation=tanh, hidden_layer_sizes=40, max_iter=100, solver=adam, score=0.793, total=   0.1s\n",
      "[CV] activation=tanh, hidden_layer_sizes=40, max_iter=100, solver=adam \n"
     ]
    },
    {
     "name": "stderr",
     "output_type": "stream",
     "text": [
      "/Users/Strawberry/anaconda3/lib/python3.7/site-packages/sklearn/neural_network/_multilayer_perceptron.py:571: ConvergenceWarning: Stochastic Optimizer: Maximum iterations (100) reached and the optimization hasn't converged yet.\n",
      "  % self.max_iter, ConvergenceWarning)\n",
      "/Users/Strawberry/anaconda3/lib/python3.7/site-packages/sklearn/neural_network/_multilayer_perceptron.py:571: ConvergenceWarning: Stochastic Optimizer: Maximum iterations (100) reached and the optimization hasn't converged yet.\n",
      "  % self.max_iter, ConvergenceWarning)\n",
      "/Users/Strawberry/anaconda3/lib/python3.7/site-packages/sklearn/neural_network/_multilayer_perceptron.py:571: ConvergenceWarning: Stochastic Optimizer: Maximum iterations (100) reached and the optimization hasn't converged yet.\n",
      "  % self.max_iter, ConvergenceWarning)\n",
      "/Users/Strawberry/anaconda3/lib/python3.7/site-packages/sklearn/neural_network/_multilayer_perceptron.py:571: ConvergenceWarning: Stochastic Optimizer: Maximum iterations (100) reached and the optimization hasn't converged yet.\n",
      "  % self.max_iter, ConvergenceWarning)\n"
     ]
    },
    {
     "name": "stdout",
     "output_type": "stream",
     "text": [
      "[CV]  activation=tanh, hidden_layer_sizes=40, max_iter=100, solver=adam, score=0.835, total=   0.1s\n",
      "[CV] activation=tanh, hidden_layer_sizes=40, max_iter=200, solver=lbfgs \n",
      "[CV]  activation=tanh, hidden_layer_sizes=40, max_iter=200, solver=lbfgs, score=0.777, total=   0.0s\n",
      "[CV] activation=tanh, hidden_layer_sizes=40, max_iter=200, solver=lbfgs \n",
      "[CV]  activation=tanh, hidden_layer_sizes=40, max_iter=200, solver=lbfgs, score=0.719, total=   0.1s\n",
      "[CV] activation=tanh, hidden_layer_sizes=40, max_iter=200, solver=sgd \n"
     ]
    },
    {
     "name": "stderr",
     "output_type": "stream",
     "text": [
      "/Users/Strawberry/anaconda3/lib/python3.7/site-packages/sklearn/neural_network/_multilayer_perceptron.py:571: ConvergenceWarning: Stochastic Optimizer: Maximum iterations (200) reached and the optimization hasn't converged yet.\n",
      "  % self.max_iter, ConvergenceWarning)\n",
      "/Users/Strawberry/anaconda3/lib/python3.7/site-packages/sklearn/neural_network/_multilayer_perceptron.py:571: ConvergenceWarning: Stochastic Optimizer: Maximum iterations (200) reached and the optimization hasn't converged yet.\n",
      "  % self.max_iter, ConvergenceWarning)\n"
     ]
    },
    {
     "name": "stdout",
     "output_type": "stream",
     "text": [
      "[CV]  activation=tanh, hidden_layer_sizes=40, max_iter=200, solver=sgd, score=0.752, total=   0.1s\n",
      "[CV] activation=tanh, hidden_layer_sizes=40, max_iter=200, solver=sgd \n",
      "[CV]  activation=tanh, hidden_layer_sizes=40, max_iter=200, solver=sgd, score=0.826, total=   0.1s\n",
      "[CV] activation=tanh, hidden_layer_sizes=40, max_iter=200, solver=adam \n"
     ]
    },
    {
     "name": "stderr",
     "output_type": "stream",
     "text": [
      "/Users/Strawberry/anaconda3/lib/python3.7/site-packages/sklearn/neural_network/_multilayer_perceptron.py:571: ConvergenceWarning: Stochastic Optimizer: Maximum iterations (200) reached and the optimization hasn't converged yet.\n",
      "  % self.max_iter, ConvergenceWarning)\n",
      "/Users/Strawberry/anaconda3/lib/python3.7/site-packages/sklearn/neural_network/_multilayer_perceptron.py:571: ConvergenceWarning: Stochastic Optimizer: Maximum iterations (200) reached and the optimization hasn't converged yet.\n",
      "  % self.max_iter, ConvergenceWarning)\n"
     ]
    },
    {
     "name": "stdout",
     "output_type": "stream",
     "text": [
      "[CV]  activation=tanh, hidden_layer_sizes=40, max_iter=200, solver=adam, score=0.826, total=   0.1s\n",
      "[CV] activation=tanh, hidden_layer_sizes=40, max_iter=200, solver=adam \n",
      "[CV]  activation=tanh, hidden_layer_sizes=40, max_iter=200, solver=adam, score=0.835, total=   0.1s\n",
      "[CV] activation=tanh, hidden_layer_sizes=50, max_iter=100, solver=lbfgs \n",
      "[CV]  activation=tanh, hidden_layer_sizes=50, max_iter=100, solver=lbfgs, score=0.785, total=   0.0s\n",
      "[CV] activation=tanh, hidden_layer_sizes=50, max_iter=100, solver=lbfgs \n",
      "[CV]  activation=tanh, hidden_layer_sizes=50, max_iter=100, solver=lbfgs, score=0.752, total=   0.1s\n",
      "[CV] activation=tanh, hidden_layer_sizes=50, max_iter=100, solver=sgd \n",
      "[CV]  activation=tanh, hidden_layer_sizes=50, max_iter=100, solver=sgd, score=0.760, total=   0.1s\n",
      "[CV] activation=tanh, hidden_layer_sizes=50, max_iter=100, solver=sgd \n",
      "[CV]  activation=tanh, hidden_layer_sizes=50, max_iter=100, solver=sgd, score=0.793, total=   0.1s\n",
      "[CV] activation=tanh, hidden_layer_sizes=50, max_iter=100, solver=adam \n",
      "[CV]  activation=tanh, hidden_layer_sizes=50, max_iter=100, solver=adam, score=0.810, total=   0.1s\n",
      "[CV] activation=tanh, hidden_layer_sizes=50, max_iter=100, solver=adam \n"
     ]
    },
    {
     "name": "stderr",
     "output_type": "stream",
     "text": [
      "/Users/Strawberry/anaconda3/lib/python3.7/site-packages/sklearn/neural_network/_multilayer_perceptron.py:571: ConvergenceWarning: Stochastic Optimizer: Maximum iterations (100) reached and the optimization hasn't converged yet.\n",
      "  % self.max_iter, ConvergenceWarning)\n",
      "/Users/Strawberry/anaconda3/lib/python3.7/site-packages/sklearn/neural_network/_multilayer_perceptron.py:571: ConvergenceWarning: Stochastic Optimizer: Maximum iterations (100) reached and the optimization hasn't converged yet.\n",
      "  % self.max_iter, ConvergenceWarning)\n",
      "/Users/Strawberry/anaconda3/lib/python3.7/site-packages/sklearn/neural_network/_multilayer_perceptron.py:571: ConvergenceWarning: Stochastic Optimizer: Maximum iterations (100) reached and the optimization hasn't converged yet.\n",
      "  % self.max_iter, ConvergenceWarning)\n",
      "/Users/Strawberry/anaconda3/lib/python3.7/site-packages/sklearn/neural_network/_multilayer_perceptron.py:571: ConvergenceWarning: Stochastic Optimizer: Maximum iterations (100) reached and the optimization hasn't converged yet.\n",
      "  % self.max_iter, ConvergenceWarning)\n"
     ]
    },
    {
     "name": "stdout",
     "output_type": "stream",
     "text": [
      "[CV]  activation=tanh, hidden_layer_sizes=50, max_iter=100, solver=adam, score=0.818, total=   0.1s\n",
      "[CV] activation=tanh, hidden_layer_sizes=50, max_iter=200, solver=lbfgs \n",
      "[CV]  activation=tanh, hidden_layer_sizes=50, max_iter=200, solver=lbfgs, score=0.785, total=   0.0s\n",
      "[CV] activation=tanh, hidden_layer_sizes=50, max_iter=200, solver=lbfgs \n",
      "[CV]  activation=tanh, hidden_layer_sizes=50, max_iter=200, solver=lbfgs, score=0.752, total=   0.1s\n",
      "[CV] activation=tanh, hidden_layer_sizes=50, max_iter=200, solver=sgd \n"
     ]
    },
    {
     "name": "stderr",
     "output_type": "stream",
     "text": [
      "/Users/Strawberry/anaconda3/lib/python3.7/site-packages/sklearn/neural_network/_multilayer_perceptron.py:571: ConvergenceWarning: Stochastic Optimizer: Maximum iterations (200) reached and the optimization hasn't converged yet.\n",
      "  % self.max_iter, ConvergenceWarning)\n",
      "/Users/Strawberry/anaconda3/lib/python3.7/site-packages/sklearn/neural_network/_multilayer_perceptron.py:571: ConvergenceWarning: Stochastic Optimizer: Maximum iterations (200) reached and the optimization hasn't converged yet.\n",
      "  % self.max_iter, ConvergenceWarning)\n"
     ]
    },
    {
     "name": "stdout",
     "output_type": "stream",
     "text": [
      "[CV]  activation=tanh, hidden_layer_sizes=50, max_iter=200, solver=sgd, score=0.793, total=   0.1s\n",
      "[CV] activation=tanh, hidden_layer_sizes=50, max_iter=200, solver=sgd \n",
      "[CV]  activation=tanh, hidden_layer_sizes=50, max_iter=200, solver=sgd, score=0.818, total=   0.1s\n",
      "[CV] activation=tanh, hidden_layer_sizes=50, max_iter=200, solver=adam \n"
     ]
    },
    {
     "name": "stderr",
     "output_type": "stream",
     "text": [
      "/Users/Strawberry/anaconda3/lib/python3.7/site-packages/sklearn/neural_network/_multilayer_perceptron.py:571: ConvergenceWarning: Stochastic Optimizer: Maximum iterations (200) reached and the optimization hasn't converged yet.\n",
      "  % self.max_iter, ConvergenceWarning)\n",
      "/Users/Strawberry/anaconda3/lib/python3.7/site-packages/sklearn/neural_network/_multilayer_perceptron.py:571: ConvergenceWarning: Stochastic Optimizer: Maximum iterations (200) reached and the optimization hasn't converged yet.\n",
      "  % self.max_iter, ConvergenceWarning)\n"
     ]
    },
    {
     "name": "stdout",
     "output_type": "stream",
     "text": [
      "[CV]  activation=tanh, hidden_layer_sizes=50, max_iter=200, solver=adam, score=0.843, total=   0.1s\n",
      "[CV] activation=tanh, hidden_layer_sizes=50, max_iter=200, solver=adam \n",
      "[CV]  activation=tanh, hidden_layer_sizes=50, max_iter=200, solver=adam, score=0.843, total=   0.1s\n",
      "[CV] activation=tanh, hidden_layer_sizes=60, max_iter=100, solver=lbfgs \n",
      "[CV]  activation=tanh, hidden_layer_sizes=60, max_iter=100, solver=lbfgs, score=0.818, total=   0.0s\n",
      "[CV] activation=tanh, hidden_layer_sizes=60, max_iter=100, solver=lbfgs \n",
      "[CV]  activation=tanh, hidden_layer_sizes=60, max_iter=100, solver=lbfgs, score=0.769, total=   0.1s\n",
      "[CV] activation=tanh, hidden_layer_sizes=60, max_iter=100, solver=sgd \n",
      "[CV]  activation=tanh, hidden_layer_sizes=60, max_iter=100, solver=sgd, score=0.686, total=   0.1s\n",
      "[CV] activation=tanh, hidden_layer_sizes=60, max_iter=100, solver=sgd \n",
      "[CV]  activation=tanh, hidden_layer_sizes=60, max_iter=100, solver=sgd, score=0.769, total=   0.1s\n",
      "[CV] activation=tanh, hidden_layer_sizes=60, max_iter=100, solver=adam \n",
      "[CV]  activation=tanh, hidden_layer_sizes=60, max_iter=100, solver=adam, score=0.851, total=   0.1s\n",
      "[CV] activation=tanh, hidden_layer_sizes=60, max_iter=100, solver=adam \n"
     ]
    },
    {
     "name": "stderr",
     "output_type": "stream",
     "text": [
      "/Users/Strawberry/anaconda3/lib/python3.7/site-packages/sklearn/neural_network/_multilayer_perceptron.py:571: ConvergenceWarning: Stochastic Optimizer: Maximum iterations (100) reached and the optimization hasn't converged yet.\n",
      "  % self.max_iter, ConvergenceWarning)\n",
      "/Users/Strawberry/anaconda3/lib/python3.7/site-packages/sklearn/neural_network/_multilayer_perceptron.py:571: ConvergenceWarning: Stochastic Optimizer: Maximum iterations (100) reached and the optimization hasn't converged yet.\n",
      "  % self.max_iter, ConvergenceWarning)\n",
      "/Users/Strawberry/anaconda3/lib/python3.7/site-packages/sklearn/neural_network/_multilayer_perceptron.py:571: ConvergenceWarning: Stochastic Optimizer: Maximum iterations (100) reached and the optimization hasn't converged yet.\n",
      "  % self.max_iter, ConvergenceWarning)\n",
      "/Users/Strawberry/anaconda3/lib/python3.7/site-packages/sklearn/neural_network/_multilayer_perceptron.py:571: ConvergenceWarning: Stochastic Optimizer: Maximum iterations (100) reached and the optimization hasn't converged yet.\n",
      "  % self.max_iter, ConvergenceWarning)\n"
     ]
    },
    {
     "name": "stdout",
     "output_type": "stream",
     "text": [
      "[CV]  activation=tanh, hidden_layer_sizes=60, max_iter=100, solver=adam, score=0.826, total=   0.1s\n",
      "[CV] activation=tanh, hidden_layer_sizes=60, max_iter=200, solver=lbfgs \n",
      "[CV]  activation=tanh, hidden_layer_sizes=60, max_iter=200, solver=lbfgs, score=0.818, total=   0.0s\n",
      "[CV] activation=tanh, hidden_layer_sizes=60, max_iter=200, solver=lbfgs \n",
      "[CV]  activation=tanh, hidden_layer_sizes=60, max_iter=200, solver=lbfgs, score=0.769, total=   0.1s\n",
      "[CV] activation=tanh, hidden_layer_sizes=60, max_iter=200, solver=sgd \n"
     ]
    },
    {
     "name": "stderr",
     "output_type": "stream",
     "text": [
      "/Users/Strawberry/anaconda3/lib/python3.7/site-packages/sklearn/neural_network/_multilayer_perceptron.py:571: ConvergenceWarning: Stochastic Optimizer: Maximum iterations (200) reached and the optimization hasn't converged yet.\n",
      "  % self.max_iter, ConvergenceWarning)\n",
      "/Users/Strawberry/anaconda3/lib/python3.7/site-packages/sklearn/neural_network/_multilayer_perceptron.py:571: ConvergenceWarning: Stochastic Optimizer: Maximum iterations (200) reached and the optimization hasn't converged yet.\n",
      "  % self.max_iter, ConvergenceWarning)\n"
     ]
    },
    {
     "name": "stdout",
     "output_type": "stream",
     "text": [
      "[CV]  activation=tanh, hidden_layer_sizes=60, max_iter=200, solver=sgd, score=0.760, total=   0.1s\n",
      "[CV] activation=tanh, hidden_layer_sizes=60, max_iter=200, solver=sgd \n",
      "[CV]  activation=tanh, hidden_layer_sizes=60, max_iter=200, solver=sgd, score=0.802, total=   0.1s\n",
      "[CV] activation=tanh, hidden_layer_sizes=60, max_iter=200, solver=adam \n"
     ]
    },
    {
     "name": "stderr",
     "output_type": "stream",
     "text": [
      "/Users/Strawberry/anaconda3/lib/python3.7/site-packages/sklearn/neural_network/_multilayer_perceptron.py:571: ConvergenceWarning: Stochastic Optimizer: Maximum iterations (200) reached and the optimization hasn't converged yet.\n",
      "  % self.max_iter, ConvergenceWarning)\n",
      "/Users/Strawberry/anaconda3/lib/python3.7/site-packages/sklearn/neural_network/_multilayer_perceptron.py:571: ConvergenceWarning: Stochastic Optimizer: Maximum iterations (200) reached and the optimization hasn't converged yet.\n",
      "  % self.max_iter, ConvergenceWarning)\n"
     ]
    },
    {
     "name": "stdout",
     "output_type": "stream",
     "text": [
      "[CV]  activation=tanh, hidden_layer_sizes=60, max_iter=200, solver=adam, score=0.851, total=   0.1s\n",
      "[CV] activation=tanh, hidden_layer_sizes=60, max_iter=200, solver=adam \n",
      "[CV]  activation=tanh, hidden_layer_sizes=60, max_iter=200, solver=adam, score=0.851, total=   0.1s\n",
      "[CV] activation=tanh, hidden_layer_sizes=70, max_iter=100, solver=lbfgs \n",
      "[CV]  activation=tanh, hidden_layer_sizes=70, max_iter=100, solver=lbfgs, score=0.810, total=   0.0s\n",
      "[CV] activation=tanh, hidden_layer_sizes=70, max_iter=100, solver=lbfgs \n",
      "[CV]  activation=tanh, hidden_layer_sizes=70, max_iter=100, solver=lbfgs, score=0.802, total=   0.1s\n",
      "[CV] activation=tanh, hidden_layer_sizes=70, max_iter=100, solver=sgd \n",
      "[CV]  activation=tanh, hidden_layer_sizes=70, max_iter=100, solver=sgd, score=0.802, total=   0.1s\n",
      "[CV] activation=tanh, hidden_layer_sizes=70, max_iter=100, solver=sgd \n",
      "[CV]  activation=tanh, hidden_layer_sizes=70, max_iter=100, solver=sgd, score=0.818, total=   0.1s\n",
      "[CV] activation=tanh, hidden_layer_sizes=70, max_iter=100, solver=adam \n"
     ]
    },
    {
     "name": "stderr",
     "output_type": "stream",
     "text": [
      "/Users/Strawberry/anaconda3/lib/python3.7/site-packages/sklearn/neural_network/_multilayer_perceptron.py:571: ConvergenceWarning: Stochastic Optimizer: Maximum iterations (100) reached and the optimization hasn't converged yet.\n",
      "  % self.max_iter, ConvergenceWarning)\n",
      "/Users/Strawberry/anaconda3/lib/python3.7/site-packages/sklearn/neural_network/_multilayer_perceptron.py:571: ConvergenceWarning: Stochastic Optimizer: Maximum iterations (100) reached and the optimization hasn't converged yet.\n",
      "  % self.max_iter, ConvergenceWarning)\n",
      "/Users/Strawberry/anaconda3/lib/python3.7/site-packages/sklearn/neural_network/_multilayer_perceptron.py:571: ConvergenceWarning: Stochastic Optimizer: Maximum iterations (100) reached and the optimization hasn't converged yet.\n",
      "  % self.max_iter, ConvergenceWarning)\n"
     ]
    },
    {
     "name": "stdout",
     "output_type": "stream",
     "text": [
      "[CV]  activation=tanh, hidden_layer_sizes=70, max_iter=100, solver=adam, score=0.851, total=   0.1s\n",
      "[CV] activation=tanh, hidden_layer_sizes=70, max_iter=100, solver=adam \n",
      "[CV]  activation=tanh, hidden_layer_sizes=70, max_iter=100, solver=adam, score=0.835, total=   0.1s\n",
      "[CV] activation=tanh, hidden_layer_sizes=70, max_iter=200, solver=lbfgs \n",
      "[CV]  activation=tanh, hidden_layer_sizes=70, max_iter=200, solver=lbfgs, score=0.810, total=   0.0s\n",
      "[CV] activation=tanh, hidden_layer_sizes=70, max_iter=200, solver=lbfgs \n"
     ]
    },
    {
     "name": "stderr",
     "output_type": "stream",
     "text": [
      "/Users/Strawberry/anaconda3/lib/python3.7/site-packages/sklearn/neural_network/_multilayer_perceptron.py:571: ConvergenceWarning: Stochastic Optimizer: Maximum iterations (100) reached and the optimization hasn't converged yet.\n",
      "  % self.max_iter, ConvergenceWarning)\n"
     ]
    },
    {
     "name": "stdout",
     "output_type": "stream",
     "text": [
      "[CV]  activation=tanh, hidden_layer_sizes=70, max_iter=200, solver=lbfgs, score=0.802, total=   0.1s\n",
      "[CV] activation=tanh, hidden_layer_sizes=70, max_iter=200, solver=sgd \n",
      "[CV]  activation=tanh, hidden_layer_sizes=70, max_iter=200, solver=sgd, score=0.818, total=   0.2s\n",
      "[CV] activation=tanh, hidden_layer_sizes=70, max_iter=200, solver=sgd \n"
     ]
    },
    {
     "name": "stderr",
     "output_type": "stream",
     "text": [
      "/Users/Strawberry/anaconda3/lib/python3.7/site-packages/sklearn/neural_network/_multilayer_perceptron.py:571: ConvergenceWarning: Stochastic Optimizer: Maximum iterations (200) reached and the optimization hasn't converged yet.\n",
      "  % self.max_iter, ConvergenceWarning)\n",
      "/Users/Strawberry/anaconda3/lib/python3.7/site-packages/sklearn/neural_network/_multilayer_perceptron.py:571: ConvergenceWarning: Stochastic Optimizer: Maximum iterations (200) reached and the optimization hasn't converged yet.\n",
      "  % self.max_iter, ConvergenceWarning)\n"
     ]
    },
    {
     "name": "stdout",
     "output_type": "stream",
     "text": [
      "[CV]  activation=tanh, hidden_layer_sizes=70, max_iter=200, solver=sgd, score=0.818, total=   0.2s\n",
      "[CV] activation=tanh, hidden_layer_sizes=70, max_iter=200, solver=adam \n",
      "[CV]  activation=tanh, hidden_layer_sizes=70, max_iter=200, solver=adam, score=0.851, total=   0.1s\n",
      "[CV] activation=tanh, hidden_layer_sizes=70, max_iter=200, solver=adam \n"
     ]
    },
    {
     "name": "stderr",
     "output_type": "stream",
     "text": [
      "/Users/Strawberry/anaconda3/lib/python3.7/site-packages/sklearn/neural_network/_multilayer_perceptron.py:571: ConvergenceWarning: Stochastic Optimizer: Maximum iterations (200) reached and the optimization hasn't converged yet.\n",
      "  % self.max_iter, ConvergenceWarning)\n",
      "/Users/Strawberry/anaconda3/lib/python3.7/site-packages/sklearn/neural_network/_multilayer_perceptron.py:571: ConvergenceWarning: Stochastic Optimizer: Maximum iterations (200) reached and the optimization hasn't converged yet.\n",
      "  % self.max_iter, ConvergenceWarning)\n"
     ]
    },
    {
     "name": "stdout",
     "output_type": "stream",
     "text": [
      "[CV]  activation=tanh, hidden_layer_sizes=70, max_iter=200, solver=adam, score=0.851, total=   0.2s\n",
      "[CV] activation=tanh, hidden_layer_sizes=80, max_iter=100, solver=lbfgs \n",
      "[CV]  activation=tanh, hidden_layer_sizes=80, max_iter=100, solver=lbfgs, score=0.777, total=   0.1s\n",
      "[CV] activation=tanh, hidden_layer_sizes=80, max_iter=100, solver=lbfgs \n",
      "[CV]  activation=tanh, hidden_layer_sizes=80, max_iter=100, solver=lbfgs, score=0.818, total=   0.1s\n",
      "[CV] activation=tanh, hidden_layer_sizes=80, max_iter=100, solver=sgd \n"
     ]
    },
    {
     "name": "stderr",
     "output_type": "stream",
     "text": [
      "/Users/Strawberry/anaconda3/lib/python3.7/site-packages/sklearn/neural_network/_multilayer_perceptron.py:571: ConvergenceWarning: Stochastic Optimizer: Maximum iterations (100) reached and the optimization hasn't converged yet.\n",
      "  % self.max_iter, ConvergenceWarning)\n",
      "/Users/Strawberry/anaconda3/lib/python3.7/site-packages/sklearn/neural_network/_multilayer_perceptron.py:571: ConvergenceWarning: Stochastic Optimizer: Maximum iterations (100) reached and the optimization hasn't converged yet.\n",
      "  % self.max_iter, ConvergenceWarning)\n",
      "/Users/Strawberry/anaconda3/lib/python3.7/site-packages/sklearn/neural_network/_multilayer_perceptron.py:571: ConvergenceWarning: Stochastic Optimizer: Maximum iterations (100) reached and the optimization hasn't converged yet.\n",
      "  % self.max_iter, ConvergenceWarning)\n"
     ]
    },
    {
     "name": "stdout",
     "output_type": "stream",
     "text": [
      "[CV]  activation=tanh, hidden_layer_sizes=80, max_iter=100, solver=sgd, score=0.802, total=   0.1s\n",
      "[CV] activation=tanh, hidden_layer_sizes=80, max_iter=100, solver=sgd \n",
      "[CV]  activation=tanh, hidden_layer_sizes=80, max_iter=100, solver=sgd, score=0.810, total=   0.1s\n",
      "[CV] activation=tanh, hidden_layer_sizes=80, max_iter=100, solver=adam \n",
      "[CV]  activation=tanh, hidden_layer_sizes=80, max_iter=100, solver=adam, score=0.843, total=   0.1s\n",
      "[CV] activation=tanh, hidden_layer_sizes=80, max_iter=100, solver=adam \n"
     ]
    },
    {
     "name": "stderr",
     "output_type": "stream",
     "text": [
      "/Users/Strawberry/anaconda3/lib/python3.7/site-packages/sklearn/neural_network/_multilayer_perceptron.py:571: ConvergenceWarning: Stochastic Optimizer: Maximum iterations (100) reached and the optimization hasn't converged yet.\n",
      "  % self.max_iter, ConvergenceWarning)\n"
     ]
    },
    {
     "name": "stdout",
     "output_type": "stream",
     "text": [
      "[CV]  activation=tanh, hidden_layer_sizes=80, max_iter=100, solver=adam, score=0.826, total=   0.1s\n",
      "[CV] activation=tanh, hidden_layer_sizes=80, max_iter=200, solver=lbfgs \n",
      "[CV]  activation=tanh, hidden_layer_sizes=80, max_iter=200, solver=lbfgs, score=0.777, total=   0.0s\n",
      "[CV] activation=tanh, hidden_layer_sizes=80, max_iter=200, solver=lbfgs \n",
      "[CV]  activation=tanh, hidden_layer_sizes=80, max_iter=200, solver=lbfgs, score=0.818, total=   0.1s\n",
      "[CV] activation=tanh, hidden_layer_sizes=80, max_iter=200, solver=sgd \n"
     ]
    },
    {
     "name": "stderr",
     "output_type": "stream",
     "text": [
      "/Users/Strawberry/anaconda3/lib/python3.7/site-packages/sklearn/neural_network/_multilayer_perceptron.py:571: ConvergenceWarning: Stochastic Optimizer: Maximum iterations (200) reached and the optimization hasn't converged yet.\n",
      "  % self.max_iter, ConvergenceWarning)\n",
      "/Users/Strawberry/anaconda3/lib/python3.7/site-packages/sklearn/neural_network/_multilayer_perceptron.py:571: ConvergenceWarning: Stochastic Optimizer: Maximum iterations (200) reached and the optimization hasn't converged yet.\n",
      "  % self.max_iter, ConvergenceWarning)\n"
     ]
    },
    {
     "name": "stdout",
     "output_type": "stream",
     "text": [
      "[CV]  activation=tanh, hidden_layer_sizes=80, max_iter=200, solver=sgd, score=0.802, total=   0.1s\n",
      "[CV] activation=tanh, hidden_layer_sizes=80, max_iter=200, solver=sgd \n",
      "[CV]  activation=tanh, hidden_layer_sizes=80, max_iter=200, solver=sgd, score=0.802, total=   0.1s\n",
      "[CV] activation=tanh, hidden_layer_sizes=80, max_iter=200, solver=adam \n"
     ]
    },
    {
     "name": "stderr",
     "output_type": "stream",
     "text": [
      "/Users/Strawberry/anaconda3/lib/python3.7/site-packages/sklearn/neural_network/_multilayer_perceptron.py:571: ConvergenceWarning: Stochastic Optimizer: Maximum iterations (200) reached and the optimization hasn't converged yet.\n",
      "  % self.max_iter, ConvergenceWarning)\n",
      "/Users/Strawberry/anaconda3/lib/python3.7/site-packages/sklearn/neural_network/_multilayer_perceptron.py:571: ConvergenceWarning: Stochastic Optimizer: Maximum iterations (200) reached and the optimization hasn't converged yet.\n",
      "  % self.max_iter, ConvergenceWarning)\n"
     ]
    },
    {
     "name": "stdout",
     "output_type": "stream",
     "text": [
      "[CV]  activation=tanh, hidden_layer_sizes=80, max_iter=200, solver=adam, score=0.843, total=   0.2s\n",
      "[CV] activation=tanh, hidden_layer_sizes=80, max_iter=200, solver=adam \n",
      "[CV]  activation=tanh, hidden_layer_sizes=80, max_iter=200, solver=adam, score=0.851, total=   0.1s\n",
      "[CV] activation=tanh, hidden_layer_sizes=90, max_iter=100, solver=lbfgs \n",
      "[CV]  activation=tanh, hidden_layer_sizes=90, max_iter=100, solver=lbfgs, score=0.760, total=   0.0s\n",
      "[CV] activation=tanh, hidden_layer_sizes=90, max_iter=100, solver=lbfgs \n",
      "[CV]  activation=tanh, hidden_layer_sizes=90, max_iter=100, solver=lbfgs, score=0.785, total=   0.1s\n",
      "[CV] activation=tanh, hidden_layer_sizes=90, max_iter=100, solver=sgd \n",
      "[CV]  activation=tanh, hidden_layer_sizes=90, max_iter=100, solver=sgd, score=0.777, total=   0.1s\n",
      "[CV] activation=tanh, hidden_layer_sizes=90, max_iter=100, solver=sgd \n",
      "[CV]  activation=tanh, hidden_layer_sizes=90, max_iter=100, solver=sgd, score=0.802, total=   0.1s\n",
      "[CV] activation=tanh, hidden_layer_sizes=90, max_iter=100, solver=adam \n"
     ]
    },
    {
     "name": "stderr",
     "output_type": "stream",
     "text": [
      "/Users/Strawberry/anaconda3/lib/python3.7/site-packages/sklearn/neural_network/_multilayer_perceptron.py:571: ConvergenceWarning: Stochastic Optimizer: Maximum iterations (100) reached and the optimization hasn't converged yet.\n",
      "  % self.max_iter, ConvergenceWarning)\n",
      "/Users/Strawberry/anaconda3/lib/python3.7/site-packages/sklearn/neural_network/_multilayer_perceptron.py:571: ConvergenceWarning: Stochastic Optimizer: Maximum iterations (100) reached and the optimization hasn't converged yet.\n",
      "  % self.max_iter, ConvergenceWarning)\n",
      "/Users/Strawberry/anaconda3/lib/python3.7/site-packages/sklearn/neural_network/_multilayer_perceptron.py:571: ConvergenceWarning: Stochastic Optimizer: Maximum iterations (100) reached and the optimization hasn't converged yet.\n",
      "  % self.max_iter, ConvergenceWarning)\n"
     ]
    },
    {
     "name": "stdout",
     "output_type": "stream",
     "text": [
      "[CV]  activation=tanh, hidden_layer_sizes=90, max_iter=100, solver=adam, score=0.851, total=   0.1s\n",
      "[CV] activation=tanh, hidden_layer_sizes=90, max_iter=100, solver=adam \n",
      "[CV]  activation=tanh, hidden_layer_sizes=90, max_iter=100, solver=adam, score=0.826, total=   0.1s\n",
      "[CV] activation=tanh, hidden_layer_sizes=90, max_iter=200, solver=lbfgs \n",
      "[CV]  activation=tanh, hidden_layer_sizes=90, max_iter=200, solver=lbfgs, score=0.760, total=   0.0s\n",
      "[CV] activation=tanh, hidden_layer_sizes=90, max_iter=200, solver=lbfgs \n",
      "[CV]  activation=tanh, hidden_layer_sizes=90, max_iter=200, solver=lbfgs, score=0.785, total=   0.1s\n",
      "[CV] activation=tanh, hidden_layer_sizes=90, max_iter=200, solver=sgd \n"
     ]
    },
    {
     "name": "stderr",
     "output_type": "stream",
     "text": [
      "/Users/Strawberry/anaconda3/lib/python3.7/site-packages/sklearn/neural_network/_multilayer_perceptron.py:571: ConvergenceWarning: Stochastic Optimizer: Maximum iterations (100) reached and the optimization hasn't converged yet.\n",
      "  % self.max_iter, ConvergenceWarning)\n",
      "/Users/Strawberry/anaconda3/lib/python3.7/site-packages/sklearn/neural_network/_multilayer_perceptron.py:571: ConvergenceWarning: Stochastic Optimizer: Maximum iterations (200) reached and the optimization hasn't converged yet.\n",
      "  % self.max_iter, ConvergenceWarning)\n",
      "/Users/Strawberry/anaconda3/lib/python3.7/site-packages/sklearn/neural_network/_multilayer_perceptron.py:571: ConvergenceWarning: Stochastic Optimizer: Maximum iterations (200) reached and the optimization hasn't converged yet.\n",
      "  % self.max_iter, ConvergenceWarning)\n"
     ]
    },
    {
     "name": "stdout",
     "output_type": "stream",
     "text": [
      "[CV]  activation=tanh, hidden_layer_sizes=90, max_iter=200, solver=sgd, score=0.793, total=   0.1s\n",
      "[CV] activation=tanh, hidden_layer_sizes=90, max_iter=200, solver=sgd \n",
      "[CV]  activation=tanh, hidden_layer_sizes=90, max_iter=200, solver=sgd, score=0.802, total=   0.1s\n",
      "[CV] activation=tanh, hidden_layer_sizes=90, max_iter=200, solver=adam \n"
     ]
    },
    {
     "name": "stderr",
     "output_type": "stream",
     "text": [
      "/Users/Strawberry/anaconda3/lib/python3.7/site-packages/sklearn/neural_network/_multilayer_perceptron.py:571: ConvergenceWarning: Stochastic Optimizer: Maximum iterations (200) reached and the optimization hasn't converged yet.\n",
      "  % self.max_iter, ConvergenceWarning)\n",
      "/Users/Strawberry/anaconda3/lib/python3.7/site-packages/sklearn/neural_network/_multilayer_perceptron.py:571: ConvergenceWarning: Stochastic Optimizer: Maximum iterations (200) reached and the optimization hasn't converged yet.\n",
      "  % self.max_iter, ConvergenceWarning)\n",
      "[Parallel(n_jobs=1)]: Done 324 out of 324 | elapsed:   25.7s finished\n"
     ]
    },
    {
     "name": "stdout",
     "output_type": "stream",
     "text": [
      "[CV]  activation=tanh, hidden_layer_sizes=90, max_iter=200, solver=adam, score=0.851, total=   0.2s\n",
      "[CV] activation=tanh, hidden_layer_sizes=90, max_iter=200, solver=adam \n",
      "[CV]  activation=tanh, hidden_layer_sizes=90, max_iter=200, solver=adam, score=0.843, total=   0.2s\n",
      "{'activation': 'identity', 'hidden_layer_sizes': 30, 'max_iter': 200, 'solver': 'adam'}\n",
      "0.8512396694214877\n"
     ]
    },
    {
     "name": "stderr",
     "output_type": "stream",
     "text": [
      "/Users/Strawberry/anaconda3/lib/python3.7/site-packages/sklearn/neural_network/_multilayer_perceptron.py:571: ConvergenceWarning: Stochastic Optimizer: Maximum iterations (200) reached and the optimization hasn't converged yet.\n",
      "  % self.max_iter, ConvergenceWarning)\n"
     ]
    }
   ],
   "source": [
    "# DecisionTreeClassifier, grid search to find best parameter\n",
    "RANDOM_STATE_MODEL = 42\n",
    "clf = MLPClassifier(random_state=RANDOM_STATE_MODEL)\n",
    "\n",
    "hidden_layer_sizes = []\n",
    "for i in np.arange(10, 100, 10):\n",
    "    hidden_layer_sizes.append((i))\n",
    "\n",
    "param_grid = {'hidden_layer_sizes': hidden_layer_sizes,\n",
    "              'activation' : ['identity', 'relu', 'tanh'],\n",
    "              'solver':['lbfgs', 'sgd', 'adam'],\n",
    "              'max_iter': [100,200]\n",
    "             }\n",
    "CV_clf = GridSearchCV(estimator = clf, param_grid = param_grid, cv =2, verbose = 3)\n",
    "\n",
    "CV_clf.fit(X_train, y_train)\n",
    "print(CV_clf.best_params_)\n",
    "print(CV_clf.best_score_)"
   ]
  },
  {
   "cell_type": "code",
   "execution_count": 21,
   "metadata": {},
   "outputs": [
    {
     "data": {
      "text/plain": [
       "MLPClassifier(activation='identity', alpha=0.0001, batch_size='auto',\n",
       "              beta_1=0.9, beta_2=0.999, early_stopping=False, epsilon=1e-08,\n",
       "              hidden_layer_sizes=30, learning_rate='constant',\n",
       "              learning_rate_init=0.001, max_fun=15000, max_iter=1000,\n",
       "              momentum=0.9, n_iter_no_change=10, nesterovs_momentum=True,\n",
       "              power_t=0.5, random_state=42, shuffle=True, solver='adam',\n",
       "              tol=0.0001, validation_fraction=0.1, verbose=False,\n",
       "              warm_start=False)"
      ]
     },
     "execution_count": 21,
     "metadata": {},
     "output_type": "execute_result"
    }
   ],
   "source": [
    "# train NN model\n",
    "RANDOM_STATE_MODEL = 42\n",
    "clf = MLPClassifier(random_state = RANDOM_STATE_MODEL, \n",
    "                    hidden_layer_sizes=30,#CV_clf.best_params_['hidden_layer_sizes']\n",
    "                    activation = 'identity',#CV_clf.best_params_['activation'], \n",
    "                    solver='adam', #CV_clf.best_params_['solver'], #\n",
    "                    max_iter = 1000#CV_clf.best_params_['max_iter'] #\n",
    "                   )\n",
    "clf.fit(X_train, y_train)"
   ]
  },
  {
   "cell_type": "code",
   "execution_count": 20,
   "metadata": {},
   "outputs": [],
   "source": [
    "# plot Confusion Matrix\n",
    "labels = [0,1]\n",
    "label_names = ['0','1']\n",
    "plt.rcParams[\"figure.figsize\"] = (6, 6)\n",
    "plt.rcParams.update({'font.size': 15})\n",
    "\n",
    "plot_confusion_matrix(clf, X_train, y_train,labels = labels, display_labels = label_names, cmap=plt.cm.Blues)\n",
    "plt.title('Confusion Matrix (Train):' + '\\nDimension Reduction: '+ DR + '\\nCluster: ' + Cluster, fontsize = 15)\n",
    "plt.tight_layout()\n",
    "plt.savefig(dir_out + DR + '_' + Cluster +'_CM_train.png')\n",
    "plt.close()\n",
    "\n",
    "plot_confusion_matrix(clf, X_test, y_test,labels = labels, display_labels = label_names, cmap=plt.cm.Blues)\n",
    "plt.title('Confusion Matrix (Test):' + '\\nDimension Reduction: '+ DR + '\\nCluster: ' + Cluster, fontsize = 15)\n",
    "plt.tight_layout()\n",
    "plt.savefig(dir_out + DR + '_' + Cluster +'_CM_test.png')\n",
    "plt.close()\n",
    "\n",
    "\n",
    "# plot ROC \n",
    "y_train_pred = clf.predict_proba(X_train)[:,1]\n",
    "y_test_pred = clf.predict_proba(X_test)[:,1]\n",
    "\n",
    "label_names = ['ROC Curve (Train):' + '\\nDimension Reduction: '+ DR + '\\nCluster: ' + Cluster]\n",
    "length = len(y_train)\n",
    "plot_roc(y_train.values.reshape(length,1), y_train_pred.reshape(length,1), label_names)\n",
    "plt.savefig(dir_out + DR + '_' + Cluster + '_ROC_train.png')\n",
    "plt.close()\n",
    "\n",
    "label_names = ['ROC Curve (Test):' + '\\nDimension Reduction: '+ DR + '\\nCluster: ' + Cluster]\n",
    "length = len(y_test)\n",
    "plot_roc(y_test.values.reshape(length,1), y_test_pred.reshape(length,1), label_names)\n",
    "plt.savefig(dir_out + DR + '_' + Cluster + '_ROC_test.png')\n",
    "plt.close()"
   ]
  },
  {
   "cell_type": "code",
   "execution_count": null,
   "metadata": {},
   "outputs": [],
   "source": []
  }
 ],
 "metadata": {
  "kernelspec": {
   "display_name": "Python 3",
   "language": "python",
   "name": "python3"
  },
  "language_info": {
   "codemirror_mode": {
    "name": "ipython",
    "version": 3
   },
   "file_extension": ".py",
   "mimetype": "text/x-python",
   "name": "python",
   "nbconvert_exporter": "python",
   "pygments_lexer": "ipython3",
   "version": "3.7.3"
  }
 },
 "nbformat": 4,
 "nbformat_minor": 4
}
